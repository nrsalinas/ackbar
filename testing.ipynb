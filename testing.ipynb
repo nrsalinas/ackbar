{
 "cells": [
  {
   "cell_type": "code",
   "execution_count": 5,
   "metadata": {},
   "outputs": [],
   "source": [
    "import fileio\n",
    "import pydata\n",
    "import shapes\n",
    "#import numpy as np\n",
    "#import pandas as pd"
   ]
  },
  {
   "cell_type": "code",
   "execution_count": 6,
   "metadata": {},
   "outputs": [],
   "source": [
    "from importlib import reload"
   ]
  },
  {
   "cell_type": "code",
   "execution_count": 56,
   "metadata": {},
   "outputs": [
    {
     "data": {
      "text/plain": [
       "<module 'shapes' from '/home/nelson/Data/kba/shapes.py'>"
      ]
     },
     "execution_count": 56,
     "metadata": {},
     "output_type": "execute_result"
    }
   ],
   "source": [
    "reload(fileio)\n",
    "reload(shapes)"
   ]
  },
  {
   "cell_type": "code",
   "execution_count": 12,
   "metadata": {},
   "outputs": [],
   "source": [
    "data = fileio.InputData('arecaceae.csv')\n",
    "data.iucnFile('arecaceae_categories.csv')"
   ]
  },
  {
   "cell_type": "code",
   "execution_count": 66,
   "metadata": {},
   "outputs": [],
   "source": [
    "data.groupFiles('arecaceae_groups_assignments.csv', 'arecaceae_group_diversity.csv')"
   ]
  },
  {
   "cell_type": "code",
   "execution_count": 69,
   "metadata": {},
   "outputs": [
    {
     "data": {
      "text/plain": [
       "{'Wettinia hirsuta': {'group': 'Arecaceae', 'range_size': 86670.72468534387},\n",
       " 'Aiphanes lindeniana': {'group': 'Arecaceae',\n",
       "  'range_size': 145048.84176379401},\n",
       " 'Astrocaryum malybo': {'group': 'Arecaceae', 'range_size': 176646.4376589314},\n",
       " 'Hyospathe frontinensis': {'group': 'Arecaceae',\n",
       "  'range_size': 3025.6922060659763},\n",
       " 'Reinhardtia koschnyana': {'group': 'Arecaceae',\n",
       "  'range_size': 12095.960661050465},\n",
       " 'Ceroxylon vogelianum': {'group': 'Arecaceae',\n",
       "  'range_size': 215545.44067156137},\n",
       " 'Chamaedorea ricardoi': {'group': 'Arecaceae',\n",
       "  'range_size': 30308.762704014876},\n",
       " 'Elaeis oleifera': {'group': 'Arecaceae', 'range_size': 422006.772962351},\n",
       " 'Oenocarpus circumtextus': {'group': 'Arecaceae',\n",
       "  'range_size': 209.10068143890243},\n",
       " 'Coccothrinax argentata': {'group': 'Arecaceae',\n",
       "  'range_size': 3.88531944731458},\n",
       " 'Chamaedorea pygmaea': {'group': 'Arecaceae',\n",
       "  'range_size': 106366.29228356988},\n",
       " 'Acoelorraphe wrightii': {'group': 'Arecaceae', 'range_size': 50000.0},\n",
       " 'Aiphanes acaulis': {'group': 'Arecaceae', 'range_size': 11000.0},\n",
       " 'Aiphanes buenaventurae': {'group': 'Arecaceae', 'range_size': 10000.0},\n",
       " 'Aiphanes duquei': {'group': 'Arecaceae', 'range_size': 1200.0},\n",
       " 'Aiphanes gelatinosa': {'group': 'Arecaceae',\n",
       "  'range_size': 33959.33862282359},\n",
       " 'Aiphanes graminifolia': {'group': 'Arecaceae', 'range_size': None},\n",
       " 'Aiphanes killipii': {'group': 'Arecaceae', 'range_size': 1.3357116856873659},\n",
       " 'Aiphanes leiostachys': {'group': 'Arecaceae', 'range_size': None},\n",
       " 'Aiphanes parvifolia': {'group': 'Arecaceae',\n",
       "  'range_size': 1943.9021822415586},\n",
       " 'Aiphanes pilaris': {'group': 'Arecaceae', 'range_size': None},\n",
       " 'Astrocaryum triandrum': {'group': 'Arecaceae',\n",
       "  'range_size': 999.7477944157567},\n",
       " 'Attalea amygdalina': {'group': 'Arecaceae',\n",
       "  'range_size': 6742.2220613101845},\n",
       " 'Attalea cohune': {'group': 'Arecaceae', 'range_size': None},\n",
       " 'Attalea colenda': {'group': 'Arecaceae', 'range_size': 303.1604789025473},\n",
       " 'Attalea nucifera': {'group': 'Arecaceae', 'range_size': 93322.24129453527},\n",
       " 'Bactris charnleyae': {'group': 'Arecaceae', 'range_size': None},\n",
       " 'Bactris gasipaes': {'group': 'Arecaceae', 'range_size': 280826.4987130416},\n",
       " 'Bactris rostrata': {'group': 'Arecaceae', 'range_size': None},\n",
       " 'Ceroxylon alpinum': {'group': 'Arecaceae', 'range_size': 12924.836388587004},\n",
       " 'Ceroxylon ceriferum': {'group': 'Arecaceae',\n",
       "  'range_size': 51284.89157164056},\n",
       " 'Ceroxylon parvifrons': {'group': 'Arecaceae',\n",
       "  'range_size': 117952.07730055491},\n",
       " 'Ceroxylon quindiuense': {'group': 'Arecaceae',\n",
       "  'range_size': 181854.88609336398},\n",
       " 'Ceroxylon sasaimae': {'group': 'Arecaceae',\n",
       "  'range_size': 1685.9953124065566},\n",
       " 'Ceroxylon ventricosum': {'group': 'Arecaceae',\n",
       "  'range_size': 3585.48438316635},\n",
       " 'Chamaedorea pumila': {'group': 'Arecaceae', 'range_size': None},\n",
       " 'Chamaedorea subjectifolia': {'group': 'Arecaceae', 'range_size': None},\n",
       " 'Cryosophila kalbreyeri': {'group': 'Arecaceae',\n",
       "  'range_size': 111024.3202610018},\n",
       " 'Geonoma bernalii': {'group': 'Arecaceae', 'range_size': None},\n",
       " 'Geonoma chlamydostachys': {'group': 'Arecaceae',\n",
       "  'range_size': 31086.41738951686},\n",
       " 'Geonoma galeanoae': {'group': 'Arecaceae', 'range_size': 477.83525197195365},\n",
       " 'Geonoma santanderensis': {'group': 'Arecaceae',\n",
       "  'range_size': 576.7065981371679},\n",
       " 'Hyospathe wendlandiana': {'group': 'Arecaceae',\n",
       "  'range_size': 1266.6358502014316},\n",
       " 'Pholidostachys sanluisensis': {'group': 'Arecaceae',\n",
       "  'range_size': 477.8785315995927},\n",
       " 'Phytelephas tumacana': {'group': 'Arecaceae',\n",
       "  'range_size': 446.0495043801215},\n",
       " 'Reinhardtia gracilis': {'group': 'Arecaceae',\n",
       "  'range_size': 1.5561768057890981},\n",
       " 'Reinhardtia simplex': {'group': 'Arecaceae', 'range_size': None},\n",
       " 'Roystonea oleracea': {'group': 'Arecaceae', 'range_size': None},\n",
       " 'Sabinaria magnifica': {'group': 'Arecaceae', 'range_size': None},\n",
       " 'Syagrus sancona': {'group': 'Arecaceae', 'range_size': 146477.87053790025},\n",
       " 'Wettinia microcarpa': {'group': 'Arecaceae',\n",
       "  'range_size': 4160.281281816055}}"
      ]
     },
     "execution_count": 69,
     "metadata": {},
     "output_type": "execute_result"
    }
   ],
   "source": [
    "data.taxonGroups"
   ]
  },
  {
   "cell_type": "code",
   "execution_count": 15,
   "metadata": {},
   "outputs": [
    {
     "data": {
      "text/plain": [
       "{'Arecaceae': 3000}"
      ]
     },
     "execution_count": 15,
     "metadata": {},
     "output_type": "execute_result"
    }
   ],
   "source": [
    "data.taxonGroupsInfo"
   ]
  },
  {
   "cell_type": "code",
   "execution_count": 68,
   "metadata": {},
   "outputs": [],
   "source": [
    "range_threshod = 10000 # If user knows ranges of all species within group, he should select the 25th percentile\n",
    "for sp in data.points:\n",
    "    point_list = [x for x in data.points[sp].keys()]\n",
    "    tarea = shapes.area_estimator(point_list)\n",
    "    if not data.taxonGroups[sp]['range_size']:\n",
    "        data.taxonGroups[sp]['range_size'] = tarea"
   ]
  },
  {
   "cell_type": "code",
   "execution_count": null,
   "metadata": {},
   "outputs": [],
   "source": [
    "myar = shapes.KBA('/home/nelson/Dropbox/Humboldt/Postdoc/KBA_by_IUCN/Colombia_KBA', 'SitRecID')"
   ]
  },
  {
   "cell_type": "code",
   "execution_count": null,
   "metadata": {},
   "outputs": [],
   "source": [
    "myar.spp_inclusion(data)"
   ]
  },
  {
   "cell_type": "code",
   "execution_count": null,
   "metadata": {
    "scrolled": true
   },
   "outputs": [],
   "source": [
    "myar.new_spp_table('test_kba_log.csv')"
   ]
  },
  {
   "cell_type": "markdown",
   "metadata": {},
   "source": [
    "---"
   ]
  },
  {
   "cell_type": "code",
   "execution_count": null,
   "metadata": {},
   "outputs": [],
   "source": [
    "tilas = data.getTiles(0.2, offsetLat=0.1, offsetLon=0.1)"
   ]
  },
  {
   "cell_type": "code",
   "execution_count": null,
   "metadata": {},
   "outputs": [],
   "source": [
    "for ti in tilas:\n",
    "    print(data.tile2str(ti))"
   ]
  },
  {
   "cell_type": "code",
   "execution_count": null,
   "metadata": {},
   "outputs": [],
   "source": [
    "mysols = pydata.metasearchAlt(tilas, 0.2, 10000, 10, 50)"
   ]
  },
  {
   "cell_type": "code",
   "execution_count": null,
   "metadata": {},
   "outputs": [],
   "source": [
    "mysols[0][0].aggrScore, mysols[0][0].score, mysols[0][0].ndmScore"
   ]
  },
  {
   "cell_type": "code",
   "execution_count": null,
   "metadata": {},
   "outputs": [],
   "source": [
    "' '.join(map(str, mysols[0][0].spp2crit[36]))"
   ]
  },
  {
   "cell_type": "code",
   "execution_count": null,
   "metadata": {},
   "outputs": [],
   "source": [
    "[(tilas[x].getName(), mysols[0][0].spp2crit[x]) for x in mysols[0][0].spp2crit.keys()]"
   ]
  },
  {
   "cell_type": "code",
   "execution_count": null,
   "metadata": {},
   "outputs": [],
   "source": [
    "rm -r solutions"
   ]
  },
  {
   "cell_type": "code",
   "execution_count": null,
   "metadata": {},
   "outputs": [],
   "source": [
    "shapes.solution2shape(mysols, data)"
   ]
  },
  {
   "cell_type": "code",
   "execution_count": null,
   "metadata": {},
   "outputs": [],
   "source": [
    "procAreas = {}\n",
    "\n",
    "filehandle = fiona.open('/home/nelson/Data/GIS/Areas_protegidas/RUNAP/runap2Polygon.shp', crs= 'EPSG:4326', encoding = 'utf8')\n",
    "for item in filehandle:\n",
    "    #self.polys.append(shape(item['geometry']))\n",
    "    procAreas[item['properties']['id_pnn']] = {\n",
    "        'shape': shape(item['geometry'])\n",
    "        }"
   ]
  },
  {
   "cell_type": "code",
   "execution_count": null,
   "metadata": {},
   "outputs": [],
   "source": [
    "procAreas['20170004']['shape'].contains"
   ]
  },
  {
   "cell_type": "code",
   "execution_count": null,
   "metadata": {},
   "outputs": [],
   "source": [
    "polys = []\n",
    "for ic in range(mysols[1][0].getSize()):\n",
    "    if mysols[1][0].getValue(ic) > 0:\n",
    "        y, x = irkeys[ic]\n",
    "        xBase = myfile.originN[0] + myfile.cellSize * x\n",
    "        yBase = myfile.originN[1] - myfile.cellSize * y\n",
    "        ocor = [(xBase + myfile.cellSize, yBase),\n",
    "            (xBase, yBase),\n",
    "            (xBase, yBase - myfile.cellSize),\n",
    "            (xBase + myfile.cellSize, yBase - myfile.cellSize)]\n",
    "        polys.append(Polygon(ocor))\n",
    "solpoly = unary_union(polys)\n",
    "\n",
    "for sp in myfile.points:\n",
    "    for lon, lat in myfile.points[sp]:\n",
    "        if solpoly.contains(Point(lon, lat)):\n",
    "            print (sp)\n"
   ]
  },
  {
   "cell_type": "code",
   "execution_count": null,
   "metadata": {},
   "outputs": [],
   "source": [
    "solpoly.contains"
   ]
  },
  {
   "cell_type": "code",
   "execution_count": null,
   "metadata": {},
   "outputs": [],
   "source": [
    "schema = {\n",
    "    'geometry': 'Polygon',\n",
    "    'properties': {'id': 'int',\n",
    "                  'score': 'float',\n",
    "                  'NDMscore': 'float'},\n",
    "    }\n",
    "\n",
    "irkeys = list(myfile.index_reg.keys())\n",
    "\n",
    "for igr, gr in enumerate(mysols):\n",
    "    solpolcoll = []\n",
    "    multipol = None\n",
    "    filename = 'group_{0}.shp'.format(igr)\n",
    "\n",
    "    for its,  tsol in enumerate(gr):\n",
    "        polys = []\n",
    "        solpoly = None\n",
    "        for ic in range(tsol.getSize()):\n",
    "            if tsol.getValue(ic) > 0:\n",
    "                y, x = irkeys[ic]\n",
    "                xBase = myfile.originN[0] + myfile.cellSize * x\n",
    "                yBase = myfile.originN[1] - myfile.cellSize * y\n",
    "                ocor = [(xBase + myfile.cellSize, yBase),\n",
    "                    (xBase, yBase),\n",
    "                    (xBase, yBase - myfile.cellSize),\n",
    "                    (xBase + myfile.cellSize, yBase - myfile.cellSize)]\n",
    "                polys.append(Polygon(ocor))\n",
    "        solpoly = unary_union(polys)\n",
    "        \n",
    "        if its == 0:\n",
    "                with fiona.open(filename, 'w', 'ESRI Shapefile', schema, from_epsg(4326)) as c:\n",
    "                    c.write({'geometry': mapping(solpoly),\n",
    "                        'properties': {'id': ip,\n",
    "                                      'score':  tsol.aggrScore,\n",
    "                                      'NDMscore': tsol.ndmScore}\n",
    "                            })\n",
    "\n",
    "        else:\n",
    "            with fiona.open(filename, 'a', 'ESRI Shapefile', schema, from_epsg(4326)) as c:\n",
    "                c.write({'geometry': mapping(solpoly),\n",
    "                    'properties': {'id': ip,\n",
    "                                      'score':  tsol.aggrScore,\n",
    "                                      'NDMscore': tsol.ndmScore}\n",
    "                        })\n"
   ]
  },
  {
   "cell_type": "code",
   "execution_count": null,
   "metadata": {},
   "outputs": [],
   "source": [
    "for spp in [tilas[x].getName() for x in mysols[0][0].spp2crit.keys()]:\n",
    "    print(spp, len(data.points[spp]))"
   ]
  },
  {
   "cell_type": "code",
   "execution_count": null,
   "metadata": {},
   "outputs": [],
   "source": [
    "print(data.tile2str( mysols[1][0]))"
   ]
  },
  {
   "cell_type": "code",
   "execution_count": null,
   "metadata": {
    "scrolled": true
   },
   "outputs": [],
   "source": [
    "mysols = pydata.metasearchAlt(tilas, 0.2, 1000, 500, 2)\n",
    "\n",
    "for ig, group in enumerate(mysols):\n",
    "    print ('#' * 50)\n",
    "    print ('Group {0}'.format(ig))\n",
    "    for iso, so in enumerate(group):\n",
    "        print(\"Solution {0} of {1}\".format(iso, len(group)))\n",
    "        print(so.score, \"-\", so.ndmScore, \"-\", so.aggrScore)\n",
    "        #print(\"Islands: \", pydata.islNum(so))\n",
    "        #if not pydata.isCont(so):\n",
    "        #    print(\"NOT CONTINUOUS!!!\")\n",
    "        #print(so.toBitList())\n",
    "        print(myfile.tile2str(so))\n",
    "    "
   ]
  }
 ],
 "metadata": {
  "kernelspec": {
   "display_name": "Python 3",
   "language": "python",
   "name": "python3"
  },
  "language_info": {
   "codemirror_mode": {
    "name": "ipython",
    "version": 3
   },
   "file_extension": ".py",
   "mimetype": "text/x-python",
   "name": "python",
   "nbconvert_exporter": "python",
   "pygments_lexer": "ipython3",
   "version": "3.7.4"
  }
 },
 "nbformat": 4,
 "nbformat_minor": 2
}
