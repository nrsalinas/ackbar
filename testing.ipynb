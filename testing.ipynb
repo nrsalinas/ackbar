{
 "cells": [
  {
   "cell_type": "code",
   "execution_count": 1,
   "metadata": {},
   "outputs": [],
   "source": [
    "import fileio\n",
    "import pydata\n",
    "\n",
    "#import numpy as np\n",
    "#import pandas as pd"
   ]
  },
  {
   "cell_type": "code",
   "execution_count": null,
   "metadata": {},
   "outputs": [],
   "source": [
    "from importlib import reload"
   ]
  },
  {
   "cell_type": "code",
   "execution_count": null,
   "metadata": {},
   "outputs": [],
   "source": [
    "reload(fileio)\n",
    "reload(shapes)"
   ]
  },
  {
   "cell_type": "code",
   "execution_count": 2,
   "metadata": {},
   "outputs": [],
   "source": [
    "myfile = fileio.InputData('arecaceae.csv')\n",
    "myfile.iucnFile('arecaceae_categories.csv')"
   ]
  },
  {
   "cell_type": "code",
   "execution_count": null,
   "metadata": {},
   "outputs": [],
   "source": [
    "myar = shapes.KBA('/home/nelson/Dropbox/Humboldt/Postdoc/KBA_by_IUCN/Colombia_KBA', 'SitRecID')"
   ]
  },
  {
   "cell_type": "code",
   "execution_count": null,
   "metadata": {},
   "outputs": [],
   "source": [
    "myar.spp_inclusion(myfile)"
   ]
  },
  {
   "cell_type": "code",
   "execution_count": null,
   "metadata": {},
   "outputs": [],
   "source": [
    "myar.polys"
   ]
  },
  {
   "cell_type": "code",
   "execution_count": null,
   "metadata": {
    "scrolled": true
   },
   "outputs": [],
   "source": [
    "myar.new_spp_table('test_kba_log.csv')"
   ]
  },
  {
   "cell_type": "markdown",
   "metadata": {},
   "source": [
    "---"
   ]
  },
  {
   "cell_type": "code",
   "execution_count": 8,
   "metadata": {},
   "outputs": [],
   "source": [
    "tilas = myfile.getTiles(3, offsetLat=1.5, offsetLon=1.5)"
   ]
  },
  {
   "cell_type": "code",
   "execution_count": null,
   "metadata": {},
   "outputs": [],
   "source": [
    "myfile.index_reg"
   ]
  },
  {
   "cell_type": "code",
   "execution_count": null,
   "metadata": {
    "scrolled": true
   },
   "outputs": [],
   "source": [
    "for ti in tilas:\n",
    "    print(myfile.tile2str(ti))"
   ]
  },
  {
   "cell_type": "code",
   "execution_count": 9,
   "metadata": {
    "scrolled": true
   },
   "outputs": [
    {
     "name": "stdout",
     "output_type": "stream",
     "text": [
      "Solution 0 of 15\n",
      "28 - 11.85521381534636 - 51.71042763069272\n",
      "0 - - - - \n",
      "- - 0 0 - \n",
      "- 0 0 0 - \n",
      "- - 1 0 0 \n",
      "- 0 0 0 - \n",
      "- 0 0 - 0 \n",
      "- - - - 0 \n",
      "\n",
      "Solution 1 of 15\n",
      "20 - 10.50247099250555 - 41.0049419850111\n",
      "0 - - - - \n",
      "- - 0 0 - \n",
      "- 0 1 0 - \n",
      "- - 0 0 0 \n",
      "- 0 0 0 - \n",
      "- 0 0 - 0 \n",
      "- - - - 0 \n",
      "\n",
      "Solution 2 of 15\n",
      "23 - 10.310854248702526 - 43.62170849740505\n",
      "0 - - - - \n",
      "- - 0 0 - \n",
      "- 0 0 0 - \n",
      "- - 0 1 0 \n",
      "- 0 0 0 - \n",
      "- 0 0 - 0 \n",
      "- - - - 0 \n",
      "\n",
      "Solution 3 of 15\n",
      "12 - 4.168682839721441 - 20.337365679442883\n",
      "0 - - - - \n",
      "- - 0 0 - \n",
      "- 0 0 0 - \n",
      "- - 0 0 0 \n",
      "- 0 1 0 - \n",
      "- 0 0 - 0 \n",
      "- - - - 0 \n",
      "\n",
      "Solution 4 of 15\n",
      "15 - 4.041175216436386 - 23.082350432872772\n",
      "0 - - - - \n",
      "- - 0 0 - \n",
      "- 0 0 1 - \n",
      "- - 0 0 0 \n",
      "- 0 0 0 - \n",
      "- 0 0 - 0 \n",
      "- - - - 0 \n",
      "\n",
      "Solution 5 of 15\n",
      "2 - 2.0 - 6.0\n",
      "1 - - - - \n",
      "- - 0 0 - \n",
      "- 0 0 0 - \n",
      "- - 0 0 0 \n",
      "- 0 0 0 - \n",
      "- 0 0 - 0 \n",
      "- - - - 0 \n",
      "\n",
      "Solution 6 of 15\n",
      "7 - 1.9072580821812153 - 10.81451616436243\n",
      "0 - - - - \n",
      "- - 0 0 - \n",
      "- 0 0 0 - \n",
      "- - 0 0 0 \n",
      "- 0 0 0 - \n",
      "- 0 1 - 0 \n",
      "- - - - 0 \n",
      "\n",
      "Solution 7 of 15\n",
      "2 - 1.5 - 5.0\n",
      "0 - - - - \n",
      "- - 0 0 - \n",
      "- 0 0 0 - \n",
      "- - 0 0 0 \n",
      "- 1 0 0 - \n",
      "- 0 0 - 0 \n",
      "- - - - 0 \n",
      "\n",
      "Solution 8 of 15\n",
      "3 - 1.1081871464848518 - 5.216374292969704\n",
      "0 - - - - \n",
      "- - 0 1 - \n",
      "- 0 0 0 - \n",
      "- - 0 0 0 \n",
      "- 0 0 0 - \n",
      "- 0 0 - 0 \n",
      "- - - - 0 \n",
      "\n",
      "Solution 9 of 15\n",
      "1 - 1.0 - 3.0\n",
      "0 - - - - \n",
      "- - 0 0 - \n",
      "- 0 0 0 - \n",
      "- - 0 0 1 \n",
      "- 0 0 0 - \n",
      "- 0 0 - 0 \n",
      "- - - - 0 \n",
      "\n",
      "Solution 10 of 15\n",
      "3 - 0.9166666679084301 - 4.83333333581686\n",
      "0 - - - - \n",
      "- - 0 0 - \n",
      "- 0 0 0 - \n",
      "- - 0 0 0 \n",
      "- 0 0 0 - \n",
      "- 1 0 - 0 \n",
      "- - - - 0 \n",
      "\n",
      "Solution 11 of 15\n",
      "2 - 0.8859648928046227 - 3.7719297856092453\n",
      "0 - - - - \n",
      "- - 0 0 - \n",
      "- 0 0 0 - \n",
      "- - 0 0 0 \n",
      "- 0 0 0 - \n",
      "- 0 0 - 0 \n",
      "- - - - 1 \n",
      "\n",
      "Solution 12 of 15\n",
      "2 - 0.2500000074505806 - 2.500000014901161\n",
      "0 - - - - \n",
      "- - 0 0 - \n",
      "- 0 0 0 - \n",
      "- - 0 0 0 \n",
      "- 0 0 1 - \n",
      "- 0 0 - 0 \n",
      "- - - - 0 \n",
      "\n",
      "Solution 13 of 15\n",
      "1 - 0.1666666716337204 - 1.3333333432674408\n",
      "0 - - - - \n",
      "- - 0 0 - \n",
      "- 0 0 0 - \n",
      "- - 0 0 0 \n",
      "- 0 0 0 - \n",
      "- 0 0 - 1 \n",
      "- - - - 0 \n",
      "\n",
      "Solution 14 of 15\n",
      "3 - 0.15347191877663136 - 3.3069438375532627\n",
      "0 - - - - \n",
      "- - 0 0 - \n",
      "- 1 0 0 - \n",
      "- - 0 0 0 \n",
      "- 0 0 0 - \n",
      "- 0 0 - 0 \n",
      "- - - - 0 \n",
      "\n",
      "Solution 0 of 5\n",
      "36 - 11.178842403925955 - 58.35768480785191\n",
      "0 - - - - \n",
      "- - 0 0 - \n",
      "- 0 1 0 - \n",
      "- - 1 0 0 \n",
      "- 0 0 0 - \n",
      "- 0 0 - 0 \n",
      "- - - - 0 \n",
      "\n",
      "Solution 1 of 5\n",
      "25 - 7.176014732569456 - 39.35202946513891\n",
      "0 - - - - \n",
      "- - 0 0 - \n",
      "- 0 0 1 - \n",
      "- - 0 1 0 \n",
      "- 0 0 0 - \n",
      "- 0 0 - 0 \n",
      "- - - - 0 \n",
      "\n",
      "Solution 2 of 5\n",
      "14 - 3.0379704609513283 - 20.075940921902657\n",
      "0 - - - - \n",
      "- - 0 0 - \n",
      "- 0 0 0 - \n",
      "- - 0 0 0 \n",
      "- 0 1 0 - \n",
      "- 0 1 - 0 \n",
      "- - - - 0 \n",
      "\n",
      "Solution 3 of 5\n",
      "4 - 1.208333333954215 - 6.41666666790843\n",
      "0 - - - - \n",
      "- - 0 0 - \n",
      "- 0 0 0 - \n",
      "- - 0 0 0 \n",
      "- 1 0 0 - \n",
      "- 1 0 - 0 \n",
      "- - - - 0 \n",
      "\n",
      "Solution 4 of 5\n",
      "2 - 0.5263157822191715 - 3.052631564438343\n",
      "0 - - - - \n",
      "- - 0 0 - \n",
      "- 0 0 0 - \n",
      "- - 0 0 0 \n",
      "- 0 0 0 - \n",
      "- 0 0 - 1 \n",
      "- - - - 1 \n",
      "\n",
      "Solution 0 of 3\n",
      "35 - 11.083034032024443 - 57.166068064048886\n",
      "0 - - - - \n",
      "- - 0 0 - \n",
      "- 0 0 0 - \n",
      "- - 1 1 0 \n",
      "- 0 0 0 - \n",
      "- 0 0 - 0 \n",
      "- - - - 0 \n",
      "\n",
      "Solution 1 of 3\n",
      "28 - 7.271823104470968 - 42.54364620894194\n",
      "0 - - - - \n",
      "- - 0 0 - \n",
      "- 0 1 1 - \n",
      "- - 0 0 0 \n",
      "- 0 0 0 - \n",
      "- 0 0 - 0 \n",
      "- - - - 0 \n",
      "\n",
      "Solution 2 of 3\n",
      "14 - 2.8343414198607206 - 19.66868283972144\n",
      "0 - - - - \n",
      "- - 0 0 - \n",
      "- 0 0 0 - \n",
      "- - 0 0 0 \n",
      "- 1 1 0 - \n",
      "- 0 0 - 0 \n",
      "- - - - 0 \n",
      "\n",
      "Solution 0 of 3\n",
      "41 - 10.88951301885148 - 62.77902603770296\n",
      "0 - - - - \n",
      "- - 0 0 - \n",
      "- 0 1 0 - \n",
      "- - 1 1 0 \n",
      "- 0 0 0 - \n",
      "- 0 0 - 0 \n",
      "- - - - 0 \n",
      "\n",
      "Solution 1 of 3\n",
      "16 - 2.574681181460619 - 21.149362362921238\n",
      "0 - - - - \n",
      "- - 0 1 - \n",
      "- 0 0 1 - \n",
      "- - 0 0 0 \n",
      "- 0 0 0 - \n",
      "- 0 0 - 0 \n",
      "- - - - 0 \n",
      "\n",
      "Solution 2 of 3\n",
      "14 - 2.1951165025432906 - 18.390233005086582\n",
      "0 - - - - \n",
      "- - 0 0 - \n",
      "- 0 0 0 - \n",
      "- - 0 0 0 \n",
      "- 1 1 0 - \n",
      "- 1 0 - 0 \n",
      "- - - - 0 \n",
      "\n",
      "Solution 0 of 2\n",
      "24 - 5.655427124351263 - 35.310854248702526\n",
      "0 - - - - \n",
      "- - 0 0 - \n",
      "- 0 0 0 - \n",
      "- - 0 1 1 \n",
      "- 0 0 0 - \n",
      "- 0 0 - 0 \n",
      "- - - - 0 \n",
      "\n",
      "Solution 1 of 2\n",
      "20 - 5.327971455641091 - 30.65594291128218\n",
      "0 - - - - \n",
      "- - 0 0 - \n",
      "- 1 1 0 - \n",
      "- - 0 0 0 \n",
      "- 0 0 0 - \n",
      "- 0 0 - 0 \n",
      "- - - - 0 \n",
      "\n",
      "Solution 0 of 2\n",
      "23 - 5.280427128076553 - 33.56085425615311\n",
      "0 - - - - \n",
      "- - 0 0 - \n",
      "- 0 0 0 - \n",
      "- - 0 1 0 \n",
      "- 0 0 1 - \n",
      "- 0 0 - 0 \n",
      "- - - - 0 \n",
      "\n",
      "Solution 1 of 2\n",
      "29 - 5.2172777851422625 - 39.43455557028452\n",
      "0 - - - - \n",
      "- - 0 1 - \n",
      "- 0 1 1 - \n",
      "- - 0 0 0 \n",
      "- 0 0 0 - \n",
      "- 0 0 - 0 \n",
      "- - - - 0 \n",
      "\n"
     ]
    }
   ],
   "source": [
    "mysols = pydata.metasearchAlt(tilas, 0.2, 1000, 500, 2)\n",
    "\n",
    "for group in mysols:\n",
    "    for iso, so in enumerate(group):\n",
    "        print(\"Solution {0} of {1}\".format(iso, len(group)))\n",
    "        print(so.score, \"-\", so.ndmScore, \"-\", so.aggrScore)\n",
    "        #print(\"Islands: \", pydata.islNum(so))\n",
    "        #if not pydata.isCont(so):\n",
    "        #    print(\"NOT CONTINUOUS!!!\")\n",
    "        #print(so.toBitList())\n",
    "        print(myfile.tile2str(so))\n",
    "    "
   ]
  },
  {
   "cell_type": "code",
   "execution_count": null,
   "metadata": {},
   "outputs": [],
   "source": [
    "def overl(l0, l1):\n",
    "    out = False\n",
    "    for ic, c in enumerate(l0):\n",
    "        if c == 1 and l1[ic] == 1:\n",
    "            out = True\n",
    "            break\n",
    "    return out"
   ]
  },
  {
   "cell_type": "code",
   "execution_count": null,
   "metadata": {},
   "outputs": [],
   "source": [
    "visited = [0 for x in mysols]\n",
    "sets = {}\n",
    "cc = 0\n",
    "\n",
    "for isor, soRef in enumerate(mysols):\n",
    "    if visited[isor] == 0:\n",
    "        thisgroup = [isor]\n",
    "        visited[isor] = 1\n",
    "        for iso, so in enumerate(mysols):\n",
    "            if iso != isor and visited[iso] == 0:\n",
    "                addme = True\n",
    "                for tg in thisgroup:\n",
    "                    if overl(so.toBitList(), mysols[tg].toBitList()):\n",
    "                        addme = False\n",
    "                        break\n",
    "                if addme:\n",
    "                    visited[iso] = 1\n",
    "                    thisgroup.append(iso)\n",
    "        if len(thisgroup) > 1:\n",
    "            sets[cc] = thisgroup\n",
    "            cc += 1"
   ]
  },
  {
   "cell_type": "code",
   "execution_count": null,
   "metadata": {},
   "outputs": [],
   "source": [
    "for iso in sets[0]:\n",
    "    print(mysols[iso].score, \"-\", mysols[iso].ndmScore, \"-\", mysols[iso].aggrScore)\n",
    "    print(myfile.tile2str(mysols[iso]))"
   ]
  },
  {
   "cell_type": "code",
   "execution_count": null,
   "metadata": {},
   "outputs": [],
   "source": [
    "len(sets[0])"
   ]
  },
  {
   "cell_type": "code",
   "execution_count": null,
   "metadata": {},
   "outputs": [],
   "source": [
    "[x for x in sets.keys() if sets[x] == 0]"
   ]
  },
  {
   "cell_type": "code",
   "execution_count": null,
   "metadata": {},
   "outputs": [],
   "source": [
    "len(sets)"
   ]
  },
  {
   "cell_type": "code",
   "execution_count": null,
   "metadata": {},
   "outputs": [],
   "source": []
  },
  {
   "cell_type": "code",
   "execution_count": null,
   "metadata": {},
   "outputs": [],
   "source": [
    "mysols[0].originY"
   ]
  },
  {
   "cell_type": "code",
   "execution_count": null,
   "metadata": {},
   "outputs": [],
   "source": [
    "mysols[0].originY = -90"
   ]
  },
  {
   "cell_type": "code",
   "execution_count": null,
   "metadata": {},
   "outputs": [],
   "source": [
    "tarbits = [[0, 0, 0, 1, 0, 0, 0, 0, 0, 0],\n",
    "           [0, 0, 0, 0, 1, 1, 0, 0, 0, 0],\n",
    "           [0, 0, 0, 0, 0, 0, 0, 0, 1, 1],\n",
    "           [0, 0, 0, 1, 1, 1, 0, 0, 0, 0]]\n",
    "counts = {0:0, 1:0, 2:0, 3:0}\n",
    "#ndmabs = np.linspace(0, 50, 20).tolist()\n",
    "#ndmouts = np.linspace(0, 1, 20).tolist()\n",
    "ndmwei = np.linspace(10, 30, 20).tolist()\n",
    "bffr = \"index,weigth,ar0,ar1,ar2,ar3\\n\"\n",
    "counter = 0\n",
    "\n",
    "for w in ndmwei:            \n",
    "    mysols = pyData.metasearchAlt(tilas, 0.2, 100, 20, w)\n",
    "    tline = \"{0},{1},\".format(counter, w)\n",
    "    for ita , ta in enumerate(tarbits):\n",
    "        bit = \"nan,\"\n",
    "        for iso, so in enumerate(mysols):\n",
    "            if so.toBitList() == ta:\n",
    "                counts[ita] += 1\n",
    "                bit = \"{0},\".format(iso)\n",
    "                break\n",
    "        tline += bit\n",
    "    tline = tline[:-1]\n",
    "    bffr += tline + \"\\n\"\n",
    "    counter += 1\n",
    "            \n",
    "#with open('exp0.csv', 'w') as fhandle:\n",
    "#with open('exp1.csv', 'w') as fhandle:\n",
    "#    fhandle.write(bffr)"
   ]
  },
  {
   "cell_type": "code",
   "execution_count": null,
   "metadata": {},
   "outputs": [],
   "source": [
    "print(bffr)"
   ]
  },
  {
   "cell_type": "code",
   "execution_count": null,
   "metadata": {},
   "outputs": [],
   "source": [
    "exp0 = pd.read_csv('exp0.csv',index_col=0)"
   ]
  },
  {
   "cell_type": "code",
   "execution_count": null,
   "metadata": {
    "scrolled": true
   },
   "outputs": [],
   "source": [
    "exp0[['weigth', 'ar0', 'ar1', 'ar2', 'ar3']].groupby('weigth').mean()"
   ]
  },
  {
   "cell_type": "code",
   "execution_count": null,
   "metadata": {},
   "outputs": [],
   "source": [
    "counts"
   ]
  },
  {
   "cell_type": "markdown",
   "metadata": {},
   "source": [
    "/* keys are indexes in observations vector. Values are vectors integers that \n",
    "\tassociates to KBA criteria. Code options are:  \n",
    "\t\t0 = A1a  \n",
    "\t\t1 = A1b  \n",
    "\t\t2 = A1c  \n",
    "\t\t3 = A1d  \n",
    "\t\t4 = A1e  \n",
    "\t\t5 = B1  \n",
    "\t\t6 = B2*/ "
   ]
  },
  {
   "cell_type": "code",
   "execution_count": null,
   "metadata": {},
   "outputs": [],
   "source": [
    "myfile.rows, myfile.cols"
   ]
  },
  {
   "cell_type": "code",
   "execution_count": null,
   "metadata": {},
   "outputs": [],
   "source": [
    "for r in range(myfile.rows):\n",
    "    for c in range(myfile.cols):\n",
    "        print(\"{0:.1f}|\".format(myfile.presence_grid[r][c]), end='')\n",
    "    print('')"
   ]
  }
 ],
 "metadata": {
  "kernelspec": {
   "display_name": "Python 3",
   "language": "python",
   "name": "python3"
  },
  "language_info": {
   "codemirror_mode": {
    "name": "ipython",
    "version": 3
   },
   "file_extension": ".py",
   "mimetype": "text/x-python",
   "name": "python",
   "nbconvert_exporter": "python",
   "pygments_lexer": "ipython3",
   "version": "3.7.4"
  }
 },
 "nbformat": 4,
 "nbformat_minor": 2
}
