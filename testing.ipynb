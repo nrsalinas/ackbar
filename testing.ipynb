{
 "cells": [
  {
   "cell_type": "code",
   "execution_count": 1,
   "metadata": {},
   "outputs": [],
   "source": [
    "import fileio\n",
    "import pydata\n",
    "\n",
    "#import numpy as np\n",
    "#import pandas as pd"
   ]
  },
  {
   "cell_type": "code",
   "execution_count": 12,
   "metadata": {},
   "outputs": [],
   "source": [
    "import shapes"
   ]
  },
  {
   "cell_type": "code",
   "execution_count": null,
   "metadata": {},
   "outputs": [],
   "source": [
    "from importlib import reload"
   ]
  },
  {
   "cell_type": "code",
   "execution_count": null,
   "metadata": {},
   "outputs": [],
   "source": [
    "reload(fileio)\n",
    "#reload(shapes)"
   ]
  },
  {
   "cell_type": "code",
   "execution_count": 2,
   "metadata": {},
   "outputs": [],
   "source": [
    "myfile = fileio.InputData('arecaceae.csv')\n",
    "myfile.iucnFile('arecaceae_categories.csv')"
   ]
  },
  {
   "cell_type": "code",
   "execution_count": null,
   "metadata": {},
   "outputs": [],
   "source": [
    "myar = shapes.KBA('/home/nelson/Dropbox/Humboldt/Postdoc/KBA_by_IUCN/Colombia_KBA', 'SitRecID')"
   ]
  },
  {
   "cell_type": "code",
   "execution_count": null,
   "metadata": {},
   "outputs": [],
   "source": [
    "myar.spp_inclusion(myfile)"
   ]
  },
  {
   "cell_type": "code",
   "execution_count": null,
   "metadata": {
    "scrolled": true
   },
   "outputs": [],
   "source": [
    "myar.new_spp_table('test_kba_log.csv')"
   ]
  },
  {
   "cell_type": "markdown",
   "metadata": {},
   "source": [
    "---"
   ]
  },
  {
   "cell_type": "code",
   "execution_count": 6,
   "metadata": {},
   "outputs": [],
   "source": [
    "tilas = myfile.getTiles(0.1, offsetLat=0, offsetLon=0)"
   ]
  },
  {
   "cell_type": "code",
   "execution_count": null,
   "metadata": {
    "scrolled": true
   },
   "outputs": [],
   "source": [
    "for ti in tilas:\n",
    "    print(myfile.tile2str(ti))"
   ]
  },
  {
   "cell_type": "code",
   "execution_count": 15,
   "metadata": {},
   "outputs": [],
   "source": [
    "mysols = pydata.metasearchAlt(tilas, 0.2, 10000, 30, 50)"
   ]
  },
  {
   "cell_type": "code",
   "execution_count": 16,
   "metadata": {},
   "outputs": [
    {
     "name": "stdout",
     "output_type": "stream",
     "text": [
      "0\n",
      "0\n",
      "0\n",
      "0\n",
      "0\n",
      "0\n",
      "0\n",
      "0\n",
      "0\n",
      "0\n",
      "1\n",
      "0\n",
      "0\n",
      "0\n",
      "0\n",
      "0\n",
      "1\n",
      "0\n",
      "0\n",
      "1\n",
      "0\n",
      "0\n",
      "0\n",
      "0\n",
      "0\n",
      "1\n",
      "0\n",
      "0\n",
      "0\n",
      "0\n"
     ]
    }
   ],
   "source": [
    "for sol in mysols[0]:\n",
    "    print(sol.origin)"
   ]
  },
  {
   "cell_type": "code",
   "execution_count": null,
   "metadata": {},
   "outputs": [],
   "source": [
    "mysols[0][0].aggrScore, mysols[0][0].score, mysols[0][0].ndmScore"
   ]
  },
  {
   "cell_type": "code",
   "execution_count": 17,
   "metadata": {},
   "outputs": [],
   "source": [
    "rm -r solutions"
   ]
  },
  {
   "cell_type": "code",
   "execution_count": 18,
   "metadata": {},
   "outputs": [],
   "source": [
    "shapes.solution2shape(mysols, myfile)"
   ]
  },
  {
   "cell_type": "code",
   "execution_count": null,
   "metadata": {},
   "outputs": [],
   "source": [
    "procAreas = {}\n",
    "\n",
    "filehandle = fiona.open('/home/nelson/Data/GIS/Areas_protegidas/RUNAP/runap2Polygon.shp', crs= 'EPSG:4326', encoding = 'utf8')\n",
    "for item in filehandle:\n",
    "    #self.polys.append(shape(item['geometry']))\n",
    "    procAreas[item['properties']['id_pnn']] = {\n",
    "        'shape': shape(item['geometry'])\n",
    "        }"
   ]
  },
  {
   "cell_type": "code",
   "execution_count": null,
   "metadata": {},
   "outputs": [],
   "source": [
    "procAreas['20170004']['shape'].contains"
   ]
  },
  {
   "cell_type": "code",
   "execution_count": null,
   "metadata": {},
   "outputs": [],
   "source": [
    "polys = []\n",
    "for ic in range(mysols[1][0].getSize()):\n",
    "    if mysols[1][0].getValue(ic) > 0:\n",
    "        y, x = irkeys[ic]\n",
    "        xBase = myfile.originN[0] + myfile.cellSize * x\n",
    "        yBase = myfile.originN[1] - myfile.cellSize * y\n",
    "        ocor = [(xBase + myfile.cellSize, yBase),\n",
    "            (xBase, yBase),\n",
    "            (xBase, yBase - myfile.cellSize),\n",
    "            (xBase + myfile.cellSize, yBase - myfile.cellSize)]\n",
    "        polys.append(Polygon(ocor))\n",
    "solpoly = unary_union(polys)\n",
    "\n",
    "for sp in myfile.points:\n",
    "    for lon, lat in myfile.points[sp]:\n",
    "        if solpoly.contains(Point(lon, lat)):\n",
    "            print (sp)\n"
   ]
  },
  {
   "cell_type": "code",
   "execution_count": null,
   "metadata": {},
   "outputs": [],
   "source": [
    "solpoly.contains"
   ]
  },
  {
   "cell_type": "code",
   "execution_count": null,
   "metadata": {},
   "outputs": [],
   "source": [
    "schema = {\n",
    "    'geometry': 'Polygon',\n",
    "    'properties': {'id': 'int',\n",
    "                  'score': 'float',\n",
    "                  'NDMscore': 'float'},\n",
    "    }\n",
    "\n",
    "irkeys = list(myfile.index_reg.keys())\n",
    "\n",
    "for igr, gr in enumerate(mysols):\n",
    "    solpolcoll = []\n",
    "    multipol = None\n",
    "    filename = 'group_{0}.shp'.format(igr)\n",
    "\n",
    "    for its,  tsol in enumerate(gr):\n",
    "        polys = []\n",
    "        solpoly = None\n",
    "        for ic in range(tsol.getSize()):\n",
    "            if tsol.getValue(ic) > 0:\n",
    "                y, x = irkeys[ic]\n",
    "                xBase = myfile.originN[0] + myfile.cellSize * x\n",
    "                yBase = myfile.originN[1] - myfile.cellSize * y\n",
    "                ocor = [(xBase + myfile.cellSize, yBase),\n",
    "                    (xBase, yBase),\n",
    "                    (xBase, yBase - myfile.cellSize),\n",
    "                    (xBase + myfile.cellSize, yBase - myfile.cellSize)]\n",
    "                polys.append(Polygon(ocor))\n",
    "        solpoly = unary_union(polys)\n",
    "        \n",
    "        if its == 0:\n",
    "                with fiona.open(filename, 'w', 'ESRI Shapefile', schema, from_epsg(4326)) as c:\n",
    "                    c.write({'geometry': mapping(solpoly),\n",
    "                        'properties': {'id': ip,\n",
    "                                      'score':  tsol.aggrScore,\n",
    "                                      'NDMscore': tsol.ndmScore}\n",
    "                            })\n",
    "\n",
    "        else:\n",
    "            with fiona.open(filename, 'a', 'ESRI Shapefile', schema, from_epsg(4326)) as c:\n",
    "                c.write({'geometry': mapping(solpoly),\n",
    "                    'properties': {'id': ip,\n",
    "                                      'score':  tsol.aggrScore,\n",
    "                                      'NDMscore': tsol.ndmScore}\n",
    "                        })\n"
   ]
  },
  {
   "cell_type": "code",
   "execution_count": null,
   "metadata": {},
   "outputs": [],
   "source": [
    "for spp in [tilas[x].getName() for x in mysols[0][0].spp2crit.keys()]:\n",
    "    print(spp, len(myfile.points[spp]))"
   ]
  },
  {
   "cell_type": "code",
   "execution_count": null,
   "metadata": {},
   "outputs": [],
   "source": [
    "print(myfile.tile2str( mysols[1][0]))"
   ]
  },
  {
   "cell_type": "code",
   "execution_count": null,
   "metadata": {
    "scrolled": true
   },
   "outputs": [],
   "source": [
    "mysols = pydata.metasearchAlt(tilas, 0.2, 1000, 500, 2)\n",
    "\n",
    "for ig, group in enumerate(mysols):\n",
    "    print ('#' * 50)\n",
    "    print ('Group {0}'.format(ig))\n",
    "    for iso, so in enumerate(group):\n",
    "        print(\"Solution {0} of {1}\".format(iso, len(group)))\n",
    "        print(so.score, \"-\", so.ndmScore, \"-\", so.aggrScore)\n",
    "        #print(\"Islands: \", pydata.islNum(so))\n",
    "        #if not pydata.isCont(so):\n",
    "        #    print(\"NOT CONTINUOUS!!!\")\n",
    "        #print(so.toBitList())\n",
    "        print(myfile.tile2str(so))\n",
    "    "
   ]
  }
 ],
 "metadata": {
  "kernelspec": {
   "display_name": "Python 3",
   "language": "python",
   "name": "python3"
  },
  "language_info": {
   "codemirror_mode": {
    "name": "ipython",
    "version": 3
   },
   "file_extension": ".py",
   "mimetype": "text/x-python",
   "name": "python",
   "nbconvert_exporter": "python",
   "pygments_lexer": "ipython3",
   "version": "3.7.4"
  }
 },
 "nbformat": 4,
 "nbformat_minor": 2
}
