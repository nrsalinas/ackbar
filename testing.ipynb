{
 "cells": [
  {
   "cell_type": "code",
   "execution_count": 9,
   "metadata": {},
   "outputs": [
    {
     "data": {
      "text/plain": [
       "<module 'fileio' from '/home/nelson/Data/kba/fileio.py'>"
      ]
     },
     "execution_count": 9,
     "metadata": {},
     "output_type": "execute_result"
    }
   ],
   "source": [
    "import fileio\n",
    "import pydata\n",
    "\n",
    "#import numpy as np\n",
    "#import pandas as pd\n",
    "\n",
    "from importlib import reload\n",
    "reload(fileio)"
   ]
  },
  {
   "cell_type": "code",
   "execution_count": 10,
   "metadata": {},
   "outputs": [],
   "source": [
    "myfile = fileio.InputData('arecaceae.csv')\n",
    "myfile.iucnFile('Arecaceae_categories.csv')"
   ]
  },
  {
   "cell_type": "code",
   "execution_count": 13,
   "metadata": {},
   "outputs": [],
   "source": [
    "for na in [x for x in myfile.points if not x in myfile.iucn]:\n",
    "    print(na)\n",
    "    #myfile.iucn[na] = {'category': 'NE', 'subcritA': []}"
   ]
  },
  {
   "cell_type": "code",
   "execution_count": 11,
   "metadata": {},
   "outputs": [
    {
     "data": {
      "text/plain": [
       "dict_keys(['Acoelorraphe wrightii', 'Aiphanes acaulis', 'Aiphanes buenaventurae', 'Aiphanes duquei', 'Aiphanes gelatinosa', 'Aiphanes graminifolia', 'Aiphanes killipii', 'Aiphanes leiostachys', 'Aiphanes lindeniana', 'Aiphanes parvifolia', 'Aiphanes pilaris', 'Astrocaryum malybo', 'Astrocaryum triandrum', 'Attalea amygdalina', 'Attalea cohune', 'Attalea colenda', 'Attalea nucifera', 'Bactris charnleyae', 'Bactris gasipaes', 'Bactris rostrata', 'Ceroxylon alpinum', 'Ceroxylon ceriferum', 'Ceroxylon parvifrons', 'Ceroxylon quindiuense', 'Ceroxylon sasaimae', 'Ceroxylon ventricosum', 'Ceroxylon vogelianum', 'Chamaedorea pumila', 'Chamaedorea pygmaea', 'Chamaedorea ricardoi', 'Chamaedorea subjectifolia', 'Coccothrinax argentata', 'Cryosophila kalbreyeri', 'Elaeis oleifera', 'Geonoma bernalii', 'Geonoma chlamydostachys', 'Geonoma galeanoae', 'Geonoma santanderensis', 'Hyospathe frontinensis', 'Hyospathe wendlandiana', 'Oenocarpus circumtextus', 'Pholidostachys sanluisensis', 'Phytelephas tumacana', 'Reinhardtia gracilis', 'Reinhardtia koschnyana', 'Reinhardtia simplex', 'Roystonea oleracea', 'Sabinaria magnifica', 'Syagrus sancona', 'Wettinia hirsuta', 'Wettinia microcarpa'])"
      ]
     },
     "execution_count": 11,
     "metadata": {},
     "output_type": "execute_result"
    }
   ],
   "source": [
    "myfile.points.keys()"
   ]
  },
  {
   "cell_type": "code",
   "execution_count": 12,
   "metadata": {},
   "outputs": [
    {
     "data": {
      "text/plain": [
       "{'Acoelorraphe wrightii': {'category': 'VU', 'subcritA': []},\n",
       " 'Aiphanes acaulis': {'category': 'EN', 'subcritA': []},\n",
       " 'Aiphanes buenaventurae': {'category': 'VU', 'subcritA': []},\n",
       " 'Aiphanes duquei': {'category': 'EN', 'subcritA': []},\n",
       " 'Aiphanes gelatinosa': {'category': 'VU', 'subcritA': []},\n",
       " 'Aiphanes graminifolia': {'category': 'CR', 'subcritA': []},\n",
       " 'Aiphanes killipii': {'category': 'CR', 'subcritA': [2]},\n",
       " 'Aiphanes leiostachys': {'category': 'CR', 'subcritA': []},\n",
       " 'Aiphanes lindeniana': {'category': 'EN', 'subcritA': []},\n",
       " 'Aiphanes parvifolia': {'category': 'EN', 'subcritA': []},\n",
       " 'Aiphanes pilaris': {'category': 'VU', 'subcritA': []},\n",
       " 'Astrocaryum malybo': {'category': 'EN', 'subcritA': [2]},\n",
       " 'Astrocaryum triandrum': {'category': 'EN', 'subcritA': []},\n",
       " 'Attalea amygdalina': {'category': 'EN', 'subcritA': [2]},\n",
       " 'Attalea cohune': {'category': 'EN', 'subcritA': []},\n",
       " 'Attalea colenda': {'category': 'EN', 'subcritA': []},\n",
       " 'Attalea iguadummat': {'category': 'VU', 'subcritA': []},\n",
       " 'Attalea nucifera': {'category': 'VU', 'subcritA': []},\n",
       " 'Bactris charnleyae': {'category': 'VU', 'subcritA': []},\n",
       " 'Bactris gasipaes': {'category': 'VU', 'subcritA': [2]},\n",
       " 'Bactris rostrata': {'category': 'VU', 'subcritA': []},\n",
       " 'Ceroxylon alpinum': {'category': 'EN', 'subcritA': [2]},\n",
       " 'Ceroxylon ceriferum': {'category': 'EN', 'subcritA': []},\n",
       " 'Ceroxylon parvifrons': {'category': 'VU', 'subcritA': [1]},\n",
       " 'Ceroxylon quindiuense': {'category': 'EN', 'subcritA': [2]},\n",
       " 'Ceroxylon sasaimae': {'category': 'EN', 'subcritA': []},\n",
       " 'Ceroxylon ventricosum': {'category': 'EN', 'subcritA': [2]},\n",
       " 'Ceroxylon vogelianum': {'category': 'VU', 'subcritA': [1]},\n",
       " 'Chamaedorea pumila': {'category': 'VU', 'subcritA': []},\n",
       " 'Chamaedorea pygmaea': {'category': 'VU', 'subcritA': []},\n",
       " 'Chamaedorea ricardoi': {'category': 'EN', 'subcritA': []},\n",
       " 'Chamaedorea subjectifolia': {'category': 'VU', 'subcritA': []},\n",
       " 'Coccothrinax argentata': {'category': 'EN', 'subcritA': []},\n",
       " 'Cryosophila kalbreyeri': {'category': 'VU', 'subcritA': [2]},\n",
       " 'Elaeis oleifera': {'category': 'EN', 'subcritA': [2]},\n",
       " 'Geonoma bernalii': {'category': 'EN', 'subcritA': []},\n",
       " 'Geonoma chlamydostachys': {'category': 'VU', 'subcritA': [2]},\n",
       " 'Geonoma galeanoae': {'category': 'VU', 'subcritA': []},\n",
       " 'Geonoma santanderensis': {'category': 'VU', 'subcritA': []},\n",
       " 'Hyospathe frontinensis': {'category': 'VU', 'subcritA': []},\n",
       " 'Hyospathe wendlandiana': {'category': 'EN', 'subcritA': []},\n",
       " 'Oenocarpus circumtextus': {'category': 'VU', 'subcritA': []},\n",
       " 'Pholidostachys panamensis': {'category': 'VU', 'subcritA': []},\n",
       " 'Pholidostachys sanluisensis': {'category': 'VU', 'subcritA': []},\n",
       " 'Phytelephas tumacana': {'category': 'EN', 'subcritA': [2]},\n",
       " 'Reinhardtia gracilis': {'category': 'CR', 'subcritA': []},\n",
       " 'Reinhardtia koschnyana': {'category': 'CR', 'subcritA': [2]},\n",
       " 'Reinhardtia simplex': {'category': 'CR', 'subcritA': [2]},\n",
       " 'Roystonea oleracea': {'category': 'VU', 'subcritA': [2]},\n",
       " 'Sabinaria magnifica': {'category': 'VU', 'subcritA': []},\n",
       " 'Syagrus sancona': {'category': 'VU', 'subcritA': []},\n",
       " 'Wettinia hirsuta': {'category': 'VU', 'subcritA': [2]},\n",
       " 'Wettinia microcarpa': {'category': 'VU', 'subcritA': [2]},\n",
       " 'Calyptrogyne costatifrons': {'category': 'VU', 'subcritA': []},\n",
       " 'Prestoea simplicifolia': {'category': 'EN', 'subcritA': []}}"
      ]
     },
     "execution_count": 12,
     "metadata": {},
     "output_type": "execute_result"
    }
   ],
   "source": [
    "myfile.iucn"
   ]
  },
  {
   "cell_type": "code",
   "execution_count": 5,
   "metadata": {},
   "outputs": [
    {
     "data": {
      "text/plain": [
       "{'Orthaea_abbreviata': {'category': 'CR', 'subcritA': [1]},\n",
       " 'Orthaea_bullata': {'category': 'CR', 'subcritA': [1]},\n",
       " 'Orthaea_cusquena': {'category': 'CR', 'subcritA': [1]},\n",
       " 'Orthaea_ecuadorensis': {'category': 'CR', 'subcritA': [1]},\n",
       " 'Orthaea_fissiflora': {'category': 'CR', 'subcritA': [1]},\n",
       " 'Orthaea_glandulifera': {'category': 'CR', 'subcritA': [1, 2, 4]},\n",
       " 'Orthaea_medusula': {'category': 'CR', 'subcritA': [1]},\n",
       " 'Orthaea_panamensis': {'category': 'CR', 'subcritA': [1]},\n",
       " 'Orthaea_weberbauerii': {'category': 'CR', 'subcritA': [1]}}"
      ]
     },
     "execution_count": 5,
     "metadata": {},
     "output_type": "execute_result"
    }
   ],
   "source": [
    "myfile.iucn"
   ]
  },
  {
   "cell_type": "code",
   "execution_count": null,
   "metadata": {},
   "outputs": [],
   "source": [
    "tilas = myfile.getTiles(5, offsetLat=2.5, offsetLon=2.5)"
   ]
  },
  {
   "cell_type": "code",
   "execution_count": null,
   "metadata": {},
   "outputs": [],
   "source": [
    "myfile.index_reg"
   ]
  },
  {
   "cell_type": "code",
   "execution_count": null,
   "metadata": {
    "scrolled": true
   },
   "outputs": [],
   "source": [
    "for ti in tilas:\n",
    "    print(myfile.tile2str(ti))"
   ]
  },
  {
   "cell_type": "code",
   "execution_count": null,
   "metadata": {
    "scrolled": true
   },
   "outputs": [],
   "source": [
    "mysols = pydata.metasearchAlt(tilas, 0.2, 100, 20, 1)\n",
    "\n",
    "for so in mysols:\n",
    "    print(so.score, \"-\", so.ndmScore, \"-\", so.aggrScore)\n",
    "    print(\"Islands: \", pydata.islNum(so))\n",
    "    if not pydata.isCont(so):\n",
    "        print(\"NOT CONTINUOUS!!!\")\n",
    "    print(so.toBitList())\n",
    "    print(myfile.tile2str(so))\n",
    "    "
   ]
  },
  {
   "cell_type": "code",
   "execution_count": null,
   "metadata": {},
   "outputs": [],
   "source": [
    "mysols[0].originY"
   ]
  },
  {
   "cell_type": "code",
   "execution_count": null,
   "metadata": {},
   "outputs": [],
   "source": [
    "mysols[0].originY = -90"
   ]
  },
  {
   "cell_type": "code",
   "execution_count": null,
   "metadata": {},
   "outputs": [],
   "source": [
    "tarbits = [[0, 0, 0, 1, 0, 0, 0, 0, 0, 0],\n",
    "           [0, 0, 0, 0, 1, 1, 0, 0, 0, 0],\n",
    "           [0, 0, 0, 0, 0, 0, 0, 0, 1, 1],\n",
    "           [0, 0, 0, 1, 1, 1, 0, 0, 0, 0]]\n",
    "counts = {0:0, 1:0, 2:0, 3:0}\n",
    "#ndmabs = np.linspace(0, 50, 20).tolist()\n",
    "#ndmouts = np.linspace(0, 1, 20).tolist()\n",
    "ndmwei = np.linspace(10, 30, 20).tolist()\n",
    "bffr = \"index,weigth,ar0,ar1,ar2,ar3\\n\"\n",
    "counter = 0\n",
    "\n",
    "for w in ndmwei:            \n",
    "    mysols = pyData.metasearchAlt(tilas, 0.2, 100, 20, w)\n",
    "    tline = \"{0},{1},\".format(counter, w)\n",
    "    for ita , ta in enumerate(tarbits):\n",
    "        bit = \"nan,\"\n",
    "        for iso, so in enumerate(mysols):\n",
    "            if so.toBitList() == ta:\n",
    "                counts[ita] += 1\n",
    "                bit = \"{0},\".format(iso)\n",
    "                break\n",
    "        tline += bit\n",
    "    tline = tline[:-1]\n",
    "    bffr += tline + \"\\n\"\n",
    "    counter += 1\n",
    "            \n",
    "#with open('exp0.csv', 'w') as fhandle:\n",
    "#with open('exp1.csv', 'w') as fhandle:\n",
    "#    fhandle.write(bffr)"
   ]
  },
  {
   "cell_type": "code",
   "execution_count": null,
   "metadata": {},
   "outputs": [],
   "source": [
    "print(bffr)"
   ]
  },
  {
   "cell_type": "code",
   "execution_count": null,
   "metadata": {},
   "outputs": [],
   "source": [
    "exp0 = pd.read_csv('exp0.csv',index_col=0)"
   ]
  },
  {
   "cell_type": "code",
   "execution_count": null,
   "metadata": {
    "scrolled": true
   },
   "outputs": [],
   "source": [
    "exp0[['weigth', 'ar0', 'ar1', 'ar2', 'ar3']].groupby('weigth').mean()"
   ]
  },
  {
   "cell_type": "code",
   "execution_count": null,
   "metadata": {},
   "outputs": [],
   "source": [
    "counts"
   ]
  },
  {
   "cell_type": "markdown",
   "metadata": {},
   "source": [
    "/* keys are indexes in observations vector. Values are vectors integers that \n",
    "\tassociates to KBA criteria. Code options are:  \n",
    "\t\t0 = A1a  \n",
    "\t\t1 = A1b  \n",
    "\t\t2 = A1c  \n",
    "\t\t3 = A1d  \n",
    "\t\t4 = A1e  \n",
    "\t\t5 = B1  \n",
    "\t\t6 = B2*/ "
   ]
  },
  {
   "cell_type": "code",
   "execution_count": null,
   "metadata": {},
   "outputs": [],
   "source": [
    "myfile.rows, myfile.cols"
   ]
  },
  {
   "cell_type": "code",
   "execution_count": null,
   "metadata": {},
   "outputs": [],
   "source": [
    "for r in range(myfile.rows):\n",
    "    for c in range(myfile.cols):\n",
    "        print(\"{0:.1f}|\".format(myfile.presence_grid[r][c]), end='')\n",
    "    print('')"
   ]
  }
 ],
 "metadata": {
  "kernelspec": {
   "display_name": "Python 3",
   "language": "python",
   "name": "python3"
  },
  "language_info": {
   "codemirror_mode": {
    "name": "ipython",
    "version": 3
   },
   "file_extension": ".py",
   "mimetype": "text/x-python",
   "name": "python",
   "nbconvert_exporter": "python",
   "pygments_lexer": "ipython3",
   "version": "3.7.4"
  }
 },
 "nbformat": 4,
 "nbformat_minor": 2
}
