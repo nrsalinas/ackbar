{
 "cells": [
  {
   "cell_type": "code",
   "execution_count": 9,
   "metadata": {},
   "outputs": [],
   "source": [
    "import fileio\n",
    "import pydata\n",
    "\n",
    "#import numpy as np\n",
    "#import pandas as pd"
   ]
  },
  {
   "cell_type": "code",
   "execution_count": 2,
   "metadata": {},
   "outputs": [],
   "source": [
    "from importlib import reload"
   ]
  },
  {
   "cell_type": "code",
   "execution_count": 116,
   "metadata": {},
   "outputs": [
    {
     "data": {
      "text/plain": [
       "<module 'shapes' from '/home/nelson/Data/kba/shapes.py'>"
      ]
     },
     "execution_count": 116,
     "metadata": {},
     "output_type": "execute_result"
    }
   ],
   "source": [
    "reload(fileio)\n",
    "reload(shapes)"
   ]
  },
  {
   "cell_type": "code",
   "execution_count": 117,
   "metadata": {},
   "outputs": [],
   "source": [
    "myfile = fileio.InputData('arecaceae.csv')\n",
    "myfile.iucnFile('arecaceae_categories.csv')"
   ]
  },
  {
   "cell_type": "code",
   "execution_count": 118,
   "metadata": {},
   "outputs": [],
   "source": [
    "myar = shapes.KBA('/home/nelson/Dropbox/Humboldt/Postdoc/KBA_by_IUCN/Colombia_KBA', 'SitRecID')"
   ]
  },
  {
   "cell_type": "code",
   "execution_count": 119,
   "metadata": {},
   "outputs": [],
   "source": [
    "myar.spp_inclusion(myfile)"
   ]
  },
  {
   "cell_type": "code",
   "execution_count": 98,
   "metadata": {
    "collapsed": true
   },
   "outputs": [
    {
     "data": {
      "text/plain": [
       "{14405: {'shape': <shapely.geometry.polygon.Polygon at 0x7feec862c8d0>,\n",
       "  'new_spp': {}},\n",
       " 14408: {'shape': <shapely.geometry.polygon.Polygon at 0x7feec6c13cd0>,\n",
       "  'new_spp': {}},\n",
       " 14414: {'shape': <shapely.geometry.polygon.Polygon at 0x7feec8885b50>,\n",
       "  'new_spp': {'Acoelorraphe wrightii': [1, 5],\n",
       "   'Coccothrinax argentata': [4, 0, 5]}},\n",
       " 14419: {'shape': <shapely.geometry.polygon.Polygon at 0x7feec862c490>,\n",
       "  'new_spp': {}},\n",
       " 14423: {'shape': <shapely.geometry.polygon.Polygon at 0x7feec737bc90>,\n",
       "  'new_spp': {}},\n",
       " 14429: {'shape': <shapely.geometry.polygon.Polygon at 0x7feec6c13150>,\n",
       "  'new_spp': {}},\n",
       " 14433: {'shape': <shapely.geometry.polygon.Polygon at 0x7feec8885cd0>,\n",
       "  'new_spp': {}},\n",
       " 14440: {'shape': <shapely.geometry.polygon.Polygon at 0x7feec862cd10>,\n",
       "  'new_spp': {}},\n",
       " 14454: {'shape': <shapely.geometry.polygon.Polygon at 0x7feec737b090>,\n",
       "  'new_spp': {}},\n",
       " 14456: {'shape': <shapely.geometry.polygon.Polygon at 0x7feec6c13f10>,\n",
       "  'new_spp': {}},\n",
       " 14483: {'shape': <shapely.geometry.polygon.Polygon at 0x7feec862cc10>,\n",
       "  'new_spp': {}},\n",
       " 14485: {'shape': <shapely.geometry.polygon.Polygon at 0x7feec862cad0>,\n",
       "  'new_spp': {}},\n",
       " 19068: {'shape': <shapely.geometry.polygon.Polygon at 0x7feec737b110>,\n",
       "  'new_spp': {'Oenocarpus circumtextus': [1, 5]}},\n",
       " 19073: {'shape': <shapely.geometry.polygon.Polygon at 0x7feec6c13d10>,\n",
       "  'new_spp': {}},\n",
       " 19076: {'shape': <shapely.geometry.multipolygon.MultiPolygon at 0x7feec862c990>,\n",
       "  'new_spp': {}},\n",
       " 19085: {'shape': <shapely.geometry.polygon.Polygon at 0x7feec5e0fdd0>,\n",
       "  'new_spp': {}},\n",
       " 19086: {'shape': <shapely.geometry.polygon.Polygon at 0x7feec737b850>,\n",
       "  'new_spp': {}},\n",
       " 19091: {'shape': <shapely.geometry.polygon.Polygon at 0x7feec6c13590>,\n",
       "  'new_spp': {}},\n",
       " 19110: {'shape': <shapely.geometry.polygon.Polygon at 0x7feec737b410>,\n",
       "  'new_spp': {}},\n",
       " 19136: {'shape': <shapely.geometry.polygon.Polygon at 0x7feec862c2d0>,\n",
       "  'new_spp': {}},\n",
       " 19149: {'shape': <shapely.geometry.polygon.Polygon at 0x7feec862ca10>,\n",
       "  'new_spp': {}},\n",
       " 23445: {'shape': <shapely.geometry.polygon.Polygon at 0x7feec6c135d0>,\n",
       "  'new_spp': {}},\n",
       " 19093: {'shape': <shapely.geometry.polygon.Polygon at 0x7feec737b490>,\n",
       "  'new_spp': {}},\n",
       " 44737: {'shape': <shapely.geometry.polygon.Polygon at 0x7feec72e5e50>,\n",
       "  'new_spp': {}},\n",
       " 44734: {'shape': <shapely.geometry.polygon.Polygon at 0x7feec72e5a90>,\n",
       "  'new_spp': {}},\n",
       " 44735: {'shape': <shapely.geometry.polygon.Polygon at 0x7feec6c13d90>,\n",
       "  'new_spp': {}},\n",
       " 14503: {'shape': <shapely.geometry.polygon.Polygon at 0x7feec737b350>,\n",
       "  'new_spp': {'Aiphanes lindeniana': [4, 0, 5],\n",
       "   'Ceroxylon vogelianum': [1, 5]}},\n",
       " 14506: {'shape': <shapely.geometry.polygon.Polygon at 0x7feef9d19810>,\n",
       "  'new_spp': {}},\n",
       " 14510: {'shape': <shapely.geometry.polygon.Polygon at 0x7feec72e5210>,\n",
       "  'new_spp': {}},\n",
       " 14511: {'shape': <shapely.geometry.polygon.Polygon at 0x7feec6c13410>,\n",
       "  'new_spp': {}},\n",
       " 14402: {'shape': <shapely.geometry.polygon.Polygon at 0x7feec737b690>,\n",
       "  'new_spp': {'Bactris gasipaes': [1, 5]}},\n",
       " 14403: {'shape': <shapely.geometry.polygon.Polygon at 0x7feec72e5610>,\n",
       "  'new_spp': {}},\n",
       " 14409: {'shape': <shapely.geometry.multipolygon.MultiPolygon at 0x7feec72e5590>,\n",
       "  'new_spp': {}},\n",
       " 14410: {'shape': <shapely.geometry.polygon.Polygon at 0x7feec8615050>,\n",
       "  'new_spp': {}},\n",
       " 14412: {'shape': <shapely.geometry.polygon.Polygon at 0x7feec737bf90>,\n",
       "  'new_spp': {}},\n",
       " 14413: {'shape': <shapely.geometry.polygon.Polygon at 0x7feec72e5f10>,\n",
       "  'new_spp': {}},\n",
       " 14415: {'shape': <shapely.geometry.polygon.Polygon at 0x7feec72e5950>,\n",
       "  'new_spp': {}},\n",
       " 14416: {'shape': <shapely.geometry.polygon.Polygon at 0x7feec6c13dd0>,\n",
       "  'new_spp': {}},\n",
       " 14417: {'shape': <shapely.geometry.polygon.Polygon at 0x7feec737b590>,\n",
       "  'new_spp': {}},\n",
       " 14418: {'shape': <shapely.geometry.polygon.Polygon at 0x7feec72e5b90>,\n",
       "  'new_spp': {}},\n",
       " 14421: {'shape': <shapely.geometry.polygon.Polygon at 0x7feec72e5550>,\n",
       "  'new_spp': {}},\n",
       " 14422: {'shape': <shapely.geometry.polygon.Polygon at 0x7feec862cf10>,\n",
       "  'new_spp': {}},\n",
       " 14426: {'shape': <shapely.geometry.polygon.Polygon at 0x7feec737b7d0>,\n",
       "  'new_spp': {}},\n",
       " 14432: {'shape': <shapely.geometry.polygon.Polygon at 0x7feec72e5250>,\n",
       "  'new_spp': {}},\n",
       " 14445: {'shape': <shapely.geometry.multipolygon.MultiPolygon at 0x7feec6c7a0d0>,\n",
       "  'new_spp': {}},\n",
       " 14447: {'shape': <shapely.geometry.polygon.Polygon at 0x7feec6c13a90>,\n",
       "  'new_spp': {}},\n",
       " 14448: {'shape': <shapely.geometry.polygon.Polygon at 0x7feec737b390>,\n",
       "  'new_spp': {}},\n",
       " 14449: {'shape': <shapely.geometry.polygon.Polygon at 0x7feec6c7a7d0>,\n",
       "  'new_spp': {'Aiphanes gelatinosa': [1, 5]}},\n",
       " 14450: {'shape': <shapely.geometry.polygon.Polygon at 0x7feec6c7a290>,\n",
       "  'new_spp': {}},\n",
       " 14453: {'shape': <shapely.geometry.polygon.Polygon at 0x7feec72c7490>,\n",
       "  'new_spp': {'Chamaedorea ricardoi': [4, 0, 5]}},\n",
       " 14455: {'shape': <shapely.geometry.polygon.Polygon at 0x7feec737b6d0>,\n",
       "  'new_spp': {}},\n",
       " 14457: {'shape': <shapely.geometry.polygon.Polygon at 0x7feec72e53d0>,\n",
       "  'new_spp': {}},\n",
       " 14458: {'shape': <shapely.geometry.polygon.Polygon at 0x7feec6c7aa10>,\n",
       "  'new_spp': {}},\n",
       " 14461: {'shape': <shapely.geometry.polygon.Polygon at 0x7feec5cd1b90>,\n",
       "  'new_spp': {'Ceroxylon quindiuense': [4, 0, 2, 5],\n",
       "   'Ceroxylon vogelianum': [1, 5]}},\n",
       " 14464: {'shape': <shapely.geometry.polygon.Polygon at 0x7feec862c090>,\n",
       "  'new_spp': {'Aiphanes lindeniana': [4, 0, 5],\n",
       "   'Ceroxylon quindiuense': [4, 0, 2, 5]}},\n",
       " 14469: {'shape': <shapely.geometry.polygon.Polygon at 0x7feec72e5410>,\n",
       "  'new_spp': {}},\n",
       " 14473: {'shape': <shapely.geometry.polygon.Polygon at 0x7feec6c7a090>,\n",
       "  'new_spp': {}},\n",
       " 14475: {'shape': <shapely.geometry.polygon.Polygon at 0x7feec85bff50>,\n",
       "  'new_spp': {}},\n",
       " 14477: {'shape': <shapely.geometry.polygon.Polygon at 0x7feec85bfbd0>,\n",
       "  'new_spp': {}},\n",
       " 14479: {'shape': <shapely.geometry.polygon.Polygon at 0x7feec72e5190>,\n",
       "  'new_spp': {}},\n",
       " 14480: {'shape': <shapely.geometry.polygon.Polygon at 0x7feec6c7a6d0>,\n",
       "  'new_spp': {}},\n",
       " 14486: {'shape': <shapely.geometry.polygon.Polygon at 0x7feec737b9d0>,\n",
       "  'new_spp': {}},\n",
       " 14487: {'shape': <shapely.geometry.polygon.Polygon at 0x7feec5cfa550>,\n",
       "  'new_spp': {}},\n",
       " 14489: {'shape': <shapely.geometry.polygon.Polygon at 0x7feec5cfaf50>,\n",
       "  'new_spp': {}},\n",
       " 14491: {'shape': <shapely.geometry.polygon.Polygon at 0x7feec6c7a050>,\n",
       "  'new_spp': {}},\n",
       " 14492: {'shape': <shapely.geometry.polygon.Polygon at 0x7feec85bfe50>,\n",
       "  'new_spp': {}},\n",
       " 14493: {'shape': <shapely.geometry.polygon.Polygon at 0x7feec5cfa450>,\n",
       "  'new_spp': {'Ceroxylon quindiuense': [4, 0, 2, 5]}},\n",
       " 19053: {'shape': <shapely.geometry.polygon.Polygon at 0x7feec6025a50>,\n",
       "  'new_spp': {}},\n",
       " 19059: {'shape': <shapely.geometry.polygon.Polygon at 0x7feec6c7a1d0>,\n",
       "  'new_spp': {}},\n",
       " 19079: {'shape': <shapely.geometry.polygon.Polygon at 0x7feec862ce50>,\n",
       "  'new_spp': {'Ceroxylon parvifrons': [1, 5],\n",
       "   'Ceroxylon quindiuense': [4, 0, 2, 5],\n",
       "   'Ceroxylon ventricosum': [4, 0, 2, 5],\n",
       "   'Ceroxylon vogelianum': [1, 5]}},\n",
       " 19083: {'shape': <shapely.geometry.polygon.Polygon at 0x7feec735d690>,\n",
       "  'new_spp': {}},\n",
       " 19092: {'shape': <shapely.geometry.polygon.Polygon at 0x7feec6025ed0>,\n",
       "  'new_spp': {}},\n",
       " 19096: {'shape': <shapely.geometry.polygon.Polygon at 0x7feec6c7a710>,\n",
       "  'new_spp': {}},\n",
       " 19103: {'shape': <shapely.geometry.polygon.Polygon at 0x7feec85ece90>,\n",
       "  'new_spp': {}},\n",
       " 19104: {'shape': <shapely.geometry.polygon.Polygon at 0x7feec735d610>,\n",
       "  'new_spp': {'Ceroxylon alpinum': [4, 0, 2, 5],\n",
       "   'Ceroxylon parvifrons': [1, 5],\n",
       "   'Chamaedorea pumila': [1, 5]}},\n",
       " 19116: {'shape': <shapely.geometry.polygon.Polygon at 0x7feec6c133d0>,\n",
       "  'new_spp': {}},\n",
       " 19130: {'shape': <shapely.geometry.polygon.Polygon at 0x7feec6c7a110>,\n",
       "  'new_spp': {}},\n",
       " 19131: {'shape': <shapely.geometry.polygon.Polygon at 0x7feec85bf710>,\n",
       "  'new_spp': {'Aiphanes lindeniana': [4, 0, 5]}},\n",
       " 19137: {'shape': <shapely.geometry.polygon.Polygon at 0x7feec5cfab90>,\n",
       "  'new_spp': {}},\n",
       " 19143: {'shape': <shapely.geometry.polygon.Polygon at 0x7feec5cfa410>,\n",
       "  'new_spp': {}},\n",
       " 23446: {'shape': <shapely.geometry.polygon.Polygon at 0x7feec6c7a3d0>,\n",
       "  'new_spp': {}},\n",
       " 29706: {'shape': <shapely.geometry.polygon.Polygon at 0x7feec6c7a2d0>,\n",
       "  'new_spp': {}},\n",
       " 25203: {'shape': <shapely.geometry.polygon.Polygon at 0x7feec85bf250>,\n",
       "  'new_spp': {}},\n",
       " 26824: {'shape': <shapely.geometry.polygon.Polygon at 0x7feec5cfa110>,\n",
       "  'new_spp': {}},\n",
       " 26522: {'shape': <shapely.geometry.polygon.Polygon at 0x7feec6c7a950>,\n",
       "  'new_spp': {}},\n",
       " 19135: {'shape': <shapely.geometry.polygon.Polygon at 0x7feec6c7a810>,\n",
       "  'new_spp': {}},\n",
       " 26524: {'shape': <shapely.geometry.polygon.Polygon at 0x7feec8885ed0>,\n",
       "  'new_spp': {}},\n",
       " 26525: {'shape': <shapely.geometry.polygon.Polygon at 0x7feec72e5710>,\n",
       "  'new_spp': {}},\n",
       " 14504: {'shape': <shapely.geometry.polygon.Polygon at 0x7feec6c7a650>,\n",
       "  'new_spp': {'Aiphanes lindeniana': [4, 0, 5],\n",
       "   'Astrocaryum malybo': [4, 0, 2, 5],\n",
       "   'Ceroxylon quindiuense': [4, 0, 2, 5],\n",
       "   'Ceroxylon vogelianum': [1, 5]}},\n",
       " 26825: {'shape': <shapely.geometry.polygon.Polygon at 0x7feec6c7a850>,\n",
       "  'new_spp': {}},\n",
       " 26526: {'shape': <shapely.geometry.polygon.Polygon at 0x7feec737bad0>,\n",
       "  'new_spp': {}},\n",
       " 47218: {'shape': <shapely.geometry.polygon.Polygon at 0x7feec72e5a10>,\n",
       "  'new_spp': {}},\n",
       " 29708: {'shape': <shapely.geometry.polygon.Polygon at 0x7feec6c7afd0>,\n",
       "  'new_spp': {}},\n",
       " 29819: {'shape': <shapely.geometry.polygon.Polygon at 0x7feec6c7a4d0>,\n",
       "  'new_spp': {'Chamaedorea pygmaea': [1, 5],\n",
       "   'Hyospathe frontinensis': [1, 5]}},\n",
       " 47122: {'shape': <shapely.geometry.polygon.Polygon at 0x7feec85bfe90>,\n",
       "  'new_spp': {}},\n",
       " 26528: {'shape': <shapely.geometry.polygon.Polygon at 0x7feec72e5990>,\n",
       "  'new_spp': {}},\n",
       " 25204: {'shape': <shapely.geometry.polygon.Polygon at 0x7feec6c7a750>,\n",
       "  'new_spp': {'Hyospathe frontinensis': [1, 5]}},\n",
       " 29709: {'shape': <shapely.geometry.polygon.Polygon at 0x7feec735d810>,\n",
       "  'new_spp': {}},\n",
       " 14494: {'shape': <shapely.geometry.polygon.Polygon at 0x7feec789d810>,\n",
       "  'new_spp': {'Ceroxylon parvifrons': [1, 5]}},\n",
       " 26531: {'shape': <shapely.geometry.polygon.Polygon at 0x7feec789d890>,\n",
       "  'new_spp': {}},\n",
       " 26532: {'shape': <shapely.geometry.polygon.Polygon at 0x7feec85a7990>,\n",
       "  'new_spp': {}},\n",
       " 29710: {'shape': <shapely.geometry.polygon.Polygon at 0x7feec6430d10>,\n",
       "  'new_spp': {}},\n",
       " 14407: {'shape': <shapely.geometry.polygon.Polygon at 0x7feec789d210>,\n",
       "  'new_spp': {}},\n",
       " 14451: {'shape': <shapely.geometry.polygon.Polygon at 0x7feec789d190>,\n",
       "  'new_spp': {'Astrocaryum malybo': [4, 0, 2, 5],\n",
       "   'Attalea nucifera': [1, 5],\n",
       "   'Ceroxylon quindiuense': [4, 0, 2, 5]}},\n",
       " 26534: {'shape': <shapely.geometry.polygon.Polygon at 0x7feec6c7a610>,\n",
       "  'new_spp': {}},\n",
       " 14460: {'shape': <shapely.geometry.polygon.Polygon at 0x7feec6c7a550>,\n",
       "  'new_spp': {}},\n",
       " 19058: {'shape': <shapely.geometry.polygon.Polygon at 0x7feec789db50>,\n",
       "  'new_spp': {}},\n",
       " 29816: {'shape': <shapely.geometry.polygon.Polygon at 0x7feec789d110>,\n",
       "  'new_spp': {'Ceroxylon parvifrons': [1, 5]}},\n",
       " 26521: {'shape': <shapely.geometry.polygon.Polygon at 0x7feec72e5d10>,\n",
       "  'new_spp': {}},\n",
       " 14425: {'shape': <shapely.geometry.polygon.Polygon at 0x7feec6c7af90>,\n",
       "  'new_spp': {'Astrocaryum triandrum': [4, 0, 5],\n",
       "   'Chamaedorea pygmaea': [1, 5],\n",
       "   'Chamaedorea ricardoi': [4, 0, 5]}},\n",
       " 14430: {'shape': <shapely.geometry.multipolygon.MultiPolygon at 0x7feec789d7d0>,\n",
       "  'new_spp': {'Aiphanes parvifolia': [4, 0, 5],\n",
       "   'Hyospathe wendlandiana': [4, 0, 5],\n",
       "   'Pholidostachys sanluisensis': [1, 5]}},\n",
       " 14484: {'shape': <shapely.geometry.polygon.Polygon at 0x7feec789d0d0>,\n",
       "  'new_spp': {}},\n",
       " 14516: {'shape': <shapely.geometry.multipolygon.MultiPolygon at 0x7feec87dc510>,\n",
       "  'new_spp': {}},\n",
       " 29707: {'shape': <shapely.geometry.polygon.Polygon at 0x7feec6566890>,\n",
       "  'new_spp': {'Ceroxylon sasaimae': [4, 0, 5]}},\n",
       " 26527: {'shape': <shapely.geometry.polygon.Polygon at 0x7feec789dad0>,\n",
       "  'new_spp': {}},\n",
       " 29711: {'shape': <shapely.geometry.polygon.Polygon at 0x7feec72e5650>,\n",
       "  'new_spp': {}},\n",
       " 26533: {'shape': <shapely.geometry.polygon.Polygon at 0x7feec6c7a410>,\n",
       "  'new_spp': {'Aiphanes lindeniana': [4, 0, 5], 'Aiphanes pilaris': [1, 5]}},\n",
       " 19057: {'shape': <shapely.geometry.polygon.Polygon at 0x7feec6c7a390>,\n",
       "  'new_spp': {}},\n",
       " 14424: {'shape': <shapely.geometry.polygon.Polygon at 0x7feec862ce10>,\n",
       "  'new_spp': {'Ceroxylon ceriferum': [4, 0, 5]}},\n",
       " 14442: {'shape': <shapely.geometry.polygon.Polygon at 0x7feec789d350>,\n",
       "  'new_spp': {}},\n",
       " 14404: {'shape': <shapely.geometry.polygon.Polygon at 0x7feec6c7a210>,\n",
       "  'new_spp': {}},\n",
       " 14411: {'shape': <shapely.geometry.polygon.Polygon at 0x7feec789d790>,\n",
       "  'new_spp': {}},\n",
       " 19049: {'shape': <shapely.geometry.polygon.Polygon at 0x7feec6025510>,\n",
       "  'new_spp': {}},\n",
       " 19087: {'shape': <shapely.geometry.polygon.Polygon at 0x7feec789d290>,\n",
       "  'new_spp': {}},\n",
       " 14437: {'shape': <shapely.geometry.polygon.Polygon at 0x7feec72e5890>,\n",
       "  'new_spp': {'Aiphanes buenaventurae': [1, 5],\n",
       "   'Ceroxylon parvifrons': [1, 5],\n",
       "   'Ceroxylon vogelianum': [1, 5]}},\n",
       " 14438: {'shape': <shapely.geometry.polygon.Polygon at 0x7feec789d390>,\n",
       "  'new_spp': {'Elaeis oleifera': [4, 0, 2, 5],\n",
       "   'Reinhardtia koschnyana': [4, 0, 2, 5]}},\n",
       " 14443: {'shape': <shapely.geometry.polygon.Polygon at 0x7feec85ec2d0>,\n",
       "  'new_spp': {}},\n",
       " 14444: {'shape': <shapely.geometry.polygon.Polygon at 0x7feec789de50>,\n",
       "  'new_spp': {'Cryosophila kalbreyeri': [1, 5],\n",
       "   'Reinhardtia koschnyana': [4, 0, 2, 5],\n",
       "   'Wettinia hirsuta': [1, 5]}},\n",
       " 19089: {'shape': <shapely.geometry.polygon.Polygon at 0x7feec6c7a5d0>,\n",
       "  'new_spp': {}},\n",
       " 19090: {'shape': <shapely.geometry.polygon.Polygon at 0x7feec789dd50>,\n",
       "  'new_spp': {'Aiphanes lindeniana': [4, 0, 5],\n",
       "   'Ceroxylon parvifrons': [1, 5],\n",
       "   'Ceroxylon vogelianum': [1, 5]}},\n",
       " 14446: {'shape': <shapely.geometry.polygon.Polygon at 0x7feec85bf6d0>,\n",
       "  'new_spp': {}},\n",
       " 14431: {'shape': <shapely.geometry.polygon.Polygon at 0x7feec789d6d0>,\n",
       "  'new_spp': {}},\n",
       " 14436: {'shape': <shapely.geometry.multipolygon.MultiPolygon at 0x7feec6c7a450>,\n",
       "  'new_spp': {}},\n",
       " 14406: {'shape': <shapely.geometry.polygon.Polygon at 0x7feec789dd90>,\n",
       "  'new_spp': {'Wettinia hirsuta': [1, 5]}},\n",
       " 14439: {'shape': <shapely.geometry.polygon.Polygon at 0x7feec789d410>,\n",
       "  'new_spp': {}},\n",
       " 14500: {'shape': <shapely.geometry.polygon.Polygon at 0x7feec60f2c10>,\n",
       "  'new_spp': {'Bactris gasipaes': [1, 5]}},\n",
       " 19088: {'shape': <shapely.geometry.polygon.Polygon at 0x7feec789dbd0>,\n",
       "  'new_spp': {}},\n",
       " 14512: {'shape': <shapely.geometry.polygon.Polygon at 0x7feec72e5290>,\n",
       "  'new_spp': {}},\n",
       " 14513: {'shape': <shapely.geometry.polygon.Polygon at 0x7feec789d710>,\n",
       "  'new_spp': {}},\n",
       " 45638: {'shape': <shapely.geometry.multipolygon.MultiPolygon at 0x7feec72c7210>,\n",
       "  'new_spp': {}},\n",
       " 49055: {'shape': <shapely.geometry.polygon.Polygon at 0x7feec862c510>,\n",
       "  'new_spp': {}},\n",
       " 45635: {'shape': <shapely.geometry.polygon.Polygon at 0x7feec789d510>,\n",
       "  'new_spp': {}},\n",
       " 14428: {'shape': <shapely.geometry.polygon.Polygon at 0x7feec63291d0>,\n",
       "  'new_spp': {}},\n",
       " 14452: {'shape': <shapely.geometry.polygon.Polygon at 0x7feec789d5d0>,\n",
       "  'new_spp': {}},\n",
       " 14435: {'shape': <shapely.geometry.polygon.Polygon at 0x7feec7300590>,\n",
       "  'new_spp': {}},\n",
       " 14505: {'shape': <shapely.geometry.polygon.Polygon at 0x7feec7300050>,\n",
       "  'new_spp': {}},\n",
       " 44738: {'shape': <shapely.geometry.polygon.Polygon at 0x7feec7300450>,\n",
       "  'new_spp': {}},\n",
       " 19102: {'shape': <shapely.geometry.polygon.Polygon at 0x7feec7300790>,\n",
       "  'new_spp': {}},\n",
       " 19084: {'shape': <shapely.geometry.polygon.Polygon at 0x7feec73008d0>,\n",
       "  'new_spp': {}},\n",
       " 14434: {'shape': <shapely.geometry.polygon.Polygon at 0x7feec7300310>,\n",
       "  'new_spp': {'Ceroxylon quindiuense': [4, 0, 2, 5]}},\n",
       " 14501: {'shape': <shapely.geometry.polygon.Polygon at 0x7feec7300550>,\n",
       "  'new_spp': {'Aiphanes lindeniana': [4, 0, 5]}},\n",
       " 26529: {'shape': <shapely.geometry.polygon.Polygon at 0x7feec7300b90>,\n",
       "  'new_spp': {'Bactris gasipaes': [1, 5], 'Ceroxylon ceriferum': [4, 0, 5]}},\n",
       " 14459: {'shape': <shapely.geometry.polygon.Polygon at 0x7feec7300910>,\n",
       "  'new_spp': {'Aiphanes duquei': [4, 0, 5],\n",
       "   'Aiphanes gelatinosa': [1, 5],\n",
       "   'Ceroxylon parvifrons': [1, 5]}}}"
      ]
     },
     "execution_count": 98,
     "metadata": {},
     "output_type": "execute_result"
    }
   ],
   "source": [
    "myar.polys"
   ]
  },
  {
   "cell_type": "code",
   "execution_count": 120,
   "metadata": {
    "scrolled": true
   },
   "outputs": [],
   "source": [
    "myar.new_spp_table('test_kba_log.csv')"
   ]
  },
  {
   "cell_type": "markdown",
   "metadata": {},
   "source": [
    "---"
   ]
  },
  {
   "cell_type": "code",
   "execution_count": null,
   "metadata": {},
   "outputs": [],
   "source": [
    "tilas = myfile.getTiles(5, offsetLat=2.5, offsetLon=2.5)"
   ]
  },
  {
   "cell_type": "code",
   "execution_count": null,
   "metadata": {},
   "outputs": [],
   "source": [
    "myfile.index_reg"
   ]
  },
  {
   "cell_type": "code",
   "execution_count": null,
   "metadata": {
    "scrolled": true
   },
   "outputs": [],
   "source": [
    "for ti in tilas:\n",
    "    print(myfile.tile2str(ti))"
   ]
  },
  {
   "cell_type": "code",
   "execution_count": null,
   "metadata": {
    "scrolled": true
   },
   "outputs": [],
   "source": [
    "mysols = pydata.metasearchAlt(tilas, 0.2, 100, 20, 1)\n",
    "\n",
    "for so in mysols:\n",
    "    print(so.score, \"-\", so.ndmScore, \"-\", so.aggrScore)\n",
    "    print(\"Islands: \", pydata.islNum(so))\n",
    "    if not pydata.isCont(so):\n",
    "        print(\"NOT CONTINUOUS!!!\")\n",
    "    print(so.toBitList())\n",
    "    print(myfile.tile2str(so))\n",
    "    "
   ]
  },
  {
   "cell_type": "code",
   "execution_count": null,
   "metadata": {},
   "outputs": [],
   "source": [
    "mysols[0].originY"
   ]
  },
  {
   "cell_type": "code",
   "execution_count": null,
   "metadata": {},
   "outputs": [],
   "source": [
    "mysols[0].originY = -90"
   ]
  },
  {
   "cell_type": "code",
   "execution_count": null,
   "metadata": {},
   "outputs": [],
   "source": [
    "tarbits = [[0, 0, 0, 1, 0, 0, 0, 0, 0, 0],\n",
    "           [0, 0, 0, 0, 1, 1, 0, 0, 0, 0],\n",
    "           [0, 0, 0, 0, 0, 0, 0, 0, 1, 1],\n",
    "           [0, 0, 0, 1, 1, 1, 0, 0, 0, 0]]\n",
    "counts = {0:0, 1:0, 2:0, 3:0}\n",
    "#ndmabs = np.linspace(0, 50, 20).tolist()\n",
    "#ndmouts = np.linspace(0, 1, 20).tolist()\n",
    "ndmwei = np.linspace(10, 30, 20).tolist()\n",
    "bffr = \"index,weigth,ar0,ar1,ar2,ar3\\n\"\n",
    "counter = 0\n",
    "\n",
    "for w in ndmwei:            \n",
    "    mysols = pyData.metasearchAlt(tilas, 0.2, 100, 20, w)\n",
    "    tline = \"{0},{1},\".format(counter, w)\n",
    "    for ita , ta in enumerate(tarbits):\n",
    "        bit = \"nan,\"\n",
    "        for iso, so in enumerate(mysols):\n",
    "            if so.toBitList() == ta:\n",
    "                counts[ita] += 1\n",
    "                bit = \"{0},\".format(iso)\n",
    "                break\n",
    "        tline += bit\n",
    "    tline = tline[:-1]\n",
    "    bffr += tline + \"\\n\"\n",
    "    counter += 1\n",
    "            \n",
    "#with open('exp0.csv', 'w') as fhandle:\n",
    "#with open('exp1.csv', 'w') as fhandle:\n",
    "#    fhandle.write(bffr)"
   ]
  },
  {
   "cell_type": "code",
   "execution_count": null,
   "metadata": {},
   "outputs": [],
   "source": [
    "print(bffr)"
   ]
  },
  {
   "cell_type": "code",
   "execution_count": null,
   "metadata": {},
   "outputs": [],
   "source": [
    "exp0 = pd.read_csv('exp0.csv',index_col=0)"
   ]
  },
  {
   "cell_type": "code",
   "execution_count": null,
   "metadata": {
    "scrolled": true
   },
   "outputs": [],
   "source": [
    "exp0[['weigth', 'ar0', 'ar1', 'ar2', 'ar3']].groupby('weigth').mean()"
   ]
  },
  {
   "cell_type": "code",
   "execution_count": null,
   "metadata": {},
   "outputs": [],
   "source": [
    "counts"
   ]
  },
  {
   "cell_type": "markdown",
   "metadata": {},
   "source": [
    "/* keys are indexes in observations vector. Values are vectors integers that \n",
    "\tassociates to KBA criteria. Code options are:  \n",
    "\t\t0 = A1a  \n",
    "\t\t1 = A1b  \n",
    "\t\t2 = A1c  \n",
    "\t\t3 = A1d  \n",
    "\t\t4 = A1e  \n",
    "\t\t5 = B1  \n",
    "\t\t6 = B2*/ "
   ]
  },
  {
   "cell_type": "code",
   "execution_count": null,
   "metadata": {},
   "outputs": [],
   "source": [
    "myfile.rows, myfile.cols"
   ]
  },
  {
   "cell_type": "code",
   "execution_count": null,
   "metadata": {},
   "outputs": [],
   "source": [
    "for r in range(myfile.rows):\n",
    "    for c in range(myfile.cols):\n",
    "        print(\"{0:.1f}|\".format(myfile.presence_grid[r][c]), end='')\n",
    "    print('')"
   ]
  }
 ],
 "metadata": {
  "kernelspec": {
   "display_name": "Python 3",
   "language": "python",
   "name": "python3"
  },
  "language_info": {
   "codemirror_mode": {
    "name": "ipython",
    "version": 3
   },
   "file_extension": ".py",
   "mimetype": "text/x-python",
   "name": "python",
   "nbconvert_exporter": "python",
   "pygments_lexer": "ipython3",
   "version": "3.7.4"
  }
 },
 "nbformat": 4,
 "nbformat_minor": 2
}
