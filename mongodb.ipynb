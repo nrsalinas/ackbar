{
 "cells": [
  {
   "cell_type": "code",
   "execution_count": 22,
   "metadata": {},
   "outputs": [],
   "source": [
    "import pandas as pd"
   ]
  },
  {
   "cell_type": "code",
   "execution_count": 39,
   "metadata": {},
   "outputs": [],
   "source": [
    "import re"
   ]
  },
  {
   "cell_type": "code",
   "execution_count": 1,
   "metadata": {},
   "outputs": [],
   "source": [
    "from pymongo import MongoClient\n",
    "from bson import ObjectId"
   ]
  },
  {
   "cell_type": "code",
   "execution_count": 2,
   "metadata": {},
   "outputs": [],
   "source": [
    "def mystring(item , depth = 0):\n",
    "    out = ''\n",
    "    mydepth = depth\n",
    "    \n",
    "    if type(item) == list:\n",
    "        for it in item:\n",
    "            out += '\\n'\n",
    "            newdepth = mydepth + 1\n",
    "            out += mystring(it, newdepth)\n",
    "    \n",
    "    elif type(item) == dict:\n",
    "        for key in item:\n",
    "            out += '  ' * mydepth + key + ': '\n",
    "            newdepth = mydepth + 1\n",
    "            out += mystring(item[key], newdepth)\n",
    "\n",
    "    else:\n",
    "        out += '{0}'.format(item) + '\\n'\n",
    "    \n",
    "    return out"
   ]
  },
  {
   "cell_type": "code",
   "execution_count": 3,
   "metadata": {},
   "outputs": [],
   "source": [
    "client = MongoClient()"
   ]
  },
  {
   "cell_type": "code",
   "execution_count": 5,
   "metadata": {},
   "outputs": [],
   "source": [
    "tflora = client.ThreatenedFlora\n",
    "taxo = tflora.Taxonomy"
   ]
  },
  {
   "cell_type": "code",
   "execution_count": 94,
   "metadata": {},
   "outputs": [],
   "source": [
    "qu = taxo.aggregate([\n",
    "    {\"$match\": {\"family\": \"Arecaceae\"}},\n",
    "    {\"$lookup\":\n",
    "        {\"localField\": \"_id\",\n",
    "        \"from\" : \"Samples\",\n",
    "        \"foreignField\": \"taxonID\",\n",
    "        \"as\": \"specimen\"}\n",
    "    },\n",
    "    {\"$project\": \n",
    "        {\"_id\": 1,\n",
    "        \"genus\": 1,\n",
    "        \"specificEpithet\": 1,\n",
    "        \"specimen.TaxonID\": 1,\n",
    "        \"specimen.recordedBy\": 1,\n",
    "        \"specimen.recordNumber\": 1,\n",
    "        \"specimen.decimalLatitude\": 1,\n",
    "        \"specimen.decimalLongitude\": 1}\n",
    "    }#,\n",
    "    #{\"$limit\": 5}\n",
    "])\n",
    "\n",
    "dat2pan = {'Taxon': [], 'Latitude' : [], 'Longitude': []}\n",
    "\n",
    "for spp in qu:\n",
    "    species = spp['genus'] + \" \" + spp['specificEpithet']\n",
    "    for sam in spp['specimen']:\n",
    "        #print(species, sam['decimalLongitude'], sam['decimalLatitude'])\n",
    "        dat2pan['Taxon'].append(species)\n",
    "        dat2pan['Latitude'].append(sam['decimalLatitude'])\n",
    "        dat2pan['Longitude'].append(sam['decimalLongitude'])\n",
    "    #print(mystring(spp))    \n",
    "\n",
    "colls = pd.DataFrame.from_dict(dat2pan)"
   ]
  },
  {
   "cell_type": "code",
   "execution_count": 100,
   "metadata": {},
   "outputs": [],
   "source": [
    "colls = colls.drop(colls[colls.Latitude.isna() & colls.Longitude.isna()].index)"
   ]
  },
  {
   "cell_type": "code",
   "execution_count": 101,
   "metadata": {},
   "outputs": [],
   "source": [
    "colls.to_csv('arecaceae.csv', index=False)"
   ]
  },
  {
   "cell_type": "code",
   "execution_count": 93,
   "metadata": {},
   "outputs": [],
   "source": [
    "qu = taxo.aggregate([\n",
    "    {\"$match\": {\"family\": \"Arecaceae\"}},\n",
    "    {\"$project\": \n",
    "        {\"_id\": 1,\n",
    "        \"genus\": 1,\n",
    "        \"specificEpithet\": 1,\n",
    "        'threatStatus': 1,\n",
    "        'threatCriteria': 1}\n",
    "    }#,\n",
    "    #{\"$limit\": 5}\n",
    "])\n",
    "\n",
    "dat2pan = {'Taxon': [], 'Category' : [], 'Criteria': []}\n",
    "\n",
    "for spp in qu:\n",
    "    species = spp['genus'] + \" \" + spp['specificEpithet']\n",
    "    dat2pan['Taxon'].append(species)\n",
    "    dat2pan['Category'].append(spp['threatStatus'])\n",
    "    dat2pan['Criteria'].append(spp['threatCriteria'])\n",
    "\n",
    "    #print(species, spp['threatCriteria'])\n",
    "    #print(species, spp['threatStatus'], spp['threatCriteria'])\n",
    "    #print(mystring(spp))\n",
    "    \n",
    "pd.DataFrame.from_dict(dat2pan).to_csv('Arecaceae_categories.csv', index=False)"
   ]
  },
  {
   "cell_type": "code",
   "execution_count": 37,
   "metadata": {},
   "outputs": [
    {
     "data": {
      "text/plain": [
       "{'_id': ObjectId('5eff663d7b5e9c69d6a8dd03'),\n",
       " 'genus': 'Acidodontium',\n",
       " 'specificEpithet': 'longifolium',\n",
       " 'project': 'Vedas',\n",
       " 'kingdom': 'Plantae',\n",
       " 'phylum': 'Bryophyta',\n",
       " 'family': 'Bryaceae',\n",
       " 'scientificName': 'Acidodontium longifolium',\n",
       " 'infraspecificEpithet': None,\n",
       " 'taxonRank': 'Especie',\n",
       " 'scientificNameAuthorship': '(Paris) Broth.',\n",
       " 'threatStatus': 'LC',\n",
       " 'threatCriteria': None,\n",
       " 'threatStatusScope': 'National',\n",
       " 'distribution': 'Nativa',\n",
       " 'comments': None}"
      ]
     },
     "execution_count": 37,
     "metadata": {},
     "output_type": "execute_result"
    }
   ],
   "source": [
    "taxo.find_one()"
   ]
  },
  {
   "cell_type": "code",
   "execution_count": 18,
   "metadata": {},
   "outputs": [],
   "source": [
    "samples = tflora.Samples"
   ]
  },
  {
   "cell_type": "code",
   "execution_count": 19,
   "metadata": {},
   "outputs": [
    {
     "data": {
      "text/plain": [
       "{'_id': ObjectId('5eff66707b5e9c69d6a8e1bf'),\n",
       " 'myindex': 0,\n",
       " 'source': 'Bosque_seco',\n",
       " 'occurrenceID': None,\n",
       " 'basisOfRecord': 'Espécimen preservado',\n",
       " 'institutionCode': 'UCALDAS',\n",
       " 'collectionCode': 'FAUC',\n",
       " 'catalogNumber': 'FAUC6108',\n",
       " 'institutionID': None,\n",
       " 'occurrenceRemarks': 'Arbusto de 3-4 m. Flores azules, fruto con semillas rojas. Cultivado como ornamental en el CIAT',\n",
       " 'recordNumber': None,\n",
       " 'recordedBy': 'M. De Fraume',\n",
       " 'reproductiveCondition': 'Floración y Fructificación',\n",
       " 'occurrenceStatus': None,\n",
       " 'disposition': None,\n",
       " 'otherCatalogNumbers': None,\n",
       " 'eventDate': '1990-06-06',\n",
       " 'eventRemarks': None,\n",
       " 'habitat': None,\n",
       " 'continent': 'SA',\n",
       " 'country': 'Colombia',\n",
       " 'countryCode': 'CO',\n",
       " 'stateProvince': 'Valle del Cauca',\n",
       " 'county': 'Palmira',\n",
       " 'municipality': 'Palmira',\n",
       " 'locality': 'CIAT',\n",
       " 'verbatimLocality': None,\n",
       " 'minimumElevationInMeters': 980.0,\n",
       " 'maximumElevationInMeters': 980.0,\n",
       " 'verbatimLatitude': None,\n",
       " 'verbatimLongitude': None,\n",
       " 'verbatimCoordinateSystem': None,\n",
       " 'decimalLatitude': 3.502776,\n",
       " 'decimalLongitude': -76.355046,\n",
       " 'geodeticDatum': 'WGS84',\n",
       " 'coordinateUncertaintyInMeters': None,\n",
       " 'georeferencedBy': 'Laura Toro González',\n",
       " 'georeferencedDate': '2016-07-21',\n",
       " 'georeferenceProtocol': 'Georreferenciación de localidades: Una guía de referencia para colecciones biológicas. Instituto de Investigación de Recursos Biológicos Alexander von Humboldt – Instituto de Ciencias Naturales, Universidad Nacional de Colombia.',\n",
       " 'georeferenceSources': 'Google Earth',\n",
       " 'georeferenceVerificationStatus': None,\n",
       " 'georeferenceRemarks': '3.0',\n",
       " 'identifiedBy': None,\n",
       " 'dateIdentified': None,\n",
       " 'identificationRemarks': None,\n",
       " 'identificationQualifier': None,\n",
       " 'typeStatus': None,\n",
       " 'infraspecificEpithet': 'nada',\n",
       " 'taxonRank': 'Especie',\n",
       " 'vernacularName': None,\n",
       " 'taxonID': ObjectId('5eff663d7b5e9c69d6a8dea3')}"
      ]
     },
     "execution_count": 19,
     "metadata": {},
     "output_type": "execute_result"
    }
   ],
   "source": [
    "samples.find_one()"
   ]
  },
  {
   "cell_type": "code",
   "execution_count": 102,
   "metadata": {},
   "outputs": [],
   "source": [
    "client.close()"
   ]
  }
 ],
 "metadata": {
  "kernelspec": {
   "display_name": "Python 3",
   "language": "python",
   "name": "python3"
  },
  "language_info": {
   "codemirror_mode": {
    "name": "ipython",
    "version": 3
   },
   "file_extension": ".py",
   "mimetype": "text/x-python",
   "name": "python",
   "nbconvert_exporter": "python",
   "pygments_lexer": "ipython3",
   "version": "3.7.4"
  }
 },
 "nbformat": 4,
 "nbformat_minor": 2
}
